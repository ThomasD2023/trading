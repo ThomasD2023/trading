{
 "cells": [
  {
   "cell_type": "code",
   "execution_count": 1,
   "id": "a705a05d",
   "metadata": {
    "pycharm": {
     "name": "#%%\n"
    }
   },
   "outputs": [],
   "source": [
    "# import yfinance as yf\n",
    "#\n",
    "# crude_oil = \"CL=F\"\n",
    "# start_date = \"2000-01-01\"\n",
    "# end_date = \"2023-01-01\"\n",
    "#\n",
    "# df = yf.download(crude_oil, start = start_date, end = end_date)\n",
    "#\n",
    "# df.describe()"
   ]
  },
  {
   "cell_type": "code",
   "execution_count": 2,
   "id": "d5cc97df",
   "metadata": {
    "jupyter": {
     "outputs_hidden": false
    },
    "pycharm": {
     "name": "#%%\n"
    }
   },
   "outputs": [
    {
     "ename": "FileNotFoundError",
     "evalue": "[Errno 2] No such file or directory: 'crudeoil.csv'",
     "output_type": "error",
     "traceback": [
      "\u001b[1;31m---------------------------------------------------------------------------\u001b[0m",
      "\u001b[1;31mFileNotFoundError\u001b[0m                         Traceback (most recent call last)",
      "Cell \u001b[1;32mIn[2], line 4\u001b[0m\n\u001b[0;32m      2\u001b[0m start_date \u001b[38;5;241m=\u001b[39m \u001b[38;5;124m\"\u001b[39m\u001b[38;5;124m2016-06-23\u001b[39m\u001b[38;5;124m\"\u001b[39m\n\u001b[0;32m      3\u001b[0m end_date \u001b[38;5;241m=\u001b[39m \u001b[38;5;124m\"\u001b[39m\u001b[38;5;124m2023-05-30\u001b[39m\u001b[38;5;124m\"\u001b[39m\n\u001b[1;32m----> 4\u001b[0m df \u001b[38;5;241m=\u001b[39m \u001b[43mpd\u001b[49m\u001b[38;5;241;43m.\u001b[39;49m\u001b[43mread_csv\u001b[49m\u001b[43m(\u001b[49m\u001b[38;5;124;43m\"\u001b[39;49m\u001b[38;5;124;43mcrudeoil.csv\u001b[39;49m\u001b[38;5;124;43m\"\u001b[39;49m\u001b[43m)\u001b[49m\n\u001b[0;32m      5\u001b[0m df\u001b[38;5;241m.\u001b[39mdescribe()\n",
      "File \u001b[1;32m~\\anaconda3\\lib\\site-packages\\pandas\\io\\parsers\\readers.py:912\u001b[0m, in \u001b[0;36mread_csv\u001b[1;34m(filepath_or_buffer, sep, delimiter, header, names, index_col, usecols, dtype, engine, converters, true_values, false_values, skipinitialspace, skiprows, skipfooter, nrows, na_values, keep_default_na, na_filter, verbose, skip_blank_lines, parse_dates, infer_datetime_format, keep_date_col, date_parser, date_format, dayfirst, cache_dates, iterator, chunksize, compression, thousands, decimal, lineterminator, quotechar, quoting, doublequote, escapechar, comment, encoding, encoding_errors, dialect, on_bad_lines, delim_whitespace, low_memory, memory_map, float_precision, storage_options, dtype_backend)\u001b[0m\n\u001b[0;32m    899\u001b[0m kwds_defaults \u001b[38;5;241m=\u001b[39m _refine_defaults_read(\n\u001b[0;32m    900\u001b[0m     dialect,\n\u001b[0;32m    901\u001b[0m     delimiter,\n\u001b[1;32m   (...)\u001b[0m\n\u001b[0;32m    908\u001b[0m     dtype_backend\u001b[38;5;241m=\u001b[39mdtype_backend,\n\u001b[0;32m    909\u001b[0m )\n\u001b[0;32m    910\u001b[0m kwds\u001b[38;5;241m.\u001b[39mupdate(kwds_defaults)\n\u001b[1;32m--> 912\u001b[0m \u001b[38;5;28;01mreturn\u001b[39;00m \u001b[43m_read\u001b[49m\u001b[43m(\u001b[49m\u001b[43mfilepath_or_buffer\u001b[49m\u001b[43m,\u001b[49m\u001b[43m \u001b[49m\u001b[43mkwds\u001b[49m\u001b[43m)\u001b[49m\n",
      "File \u001b[1;32m~\\anaconda3\\lib\\site-packages\\pandas\\io\\parsers\\readers.py:577\u001b[0m, in \u001b[0;36m_read\u001b[1;34m(filepath_or_buffer, kwds)\u001b[0m\n\u001b[0;32m    574\u001b[0m _validate_names(kwds\u001b[38;5;241m.\u001b[39mget(\u001b[38;5;124m\"\u001b[39m\u001b[38;5;124mnames\u001b[39m\u001b[38;5;124m\"\u001b[39m, \u001b[38;5;28;01mNone\u001b[39;00m))\n\u001b[0;32m    576\u001b[0m \u001b[38;5;66;03m# Create the parser.\u001b[39;00m\n\u001b[1;32m--> 577\u001b[0m parser \u001b[38;5;241m=\u001b[39m TextFileReader(filepath_or_buffer, \u001b[38;5;241m*\u001b[39m\u001b[38;5;241m*\u001b[39mkwds)\n\u001b[0;32m    579\u001b[0m \u001b[38;5;28;01mif\u001b[39;00m chunksize \u001b[38;5;129;01mor\u001b[39;00m iterator:\n\u001b[0;32m    580\u001b[0m     \u001b[38;5;28;01mreturn\u001b[39;00m parser\n",
      "File \u001b[1;32m~\\anaconda3\\lib\\site-packages\\pandas\\io\\parsers\\readers.py:1407\u001b[0m, in \u001b[0;36mTextFileReader.__init__\u001b[1;34m(self, f, engine, **kwds)\u001b[0m\n\u001b[0;32m   1404\u001b[0m     \u001b[38;5;28mself\u001b[39m\u001b[38;5;241m.\u001b[39moptions[\u001b[38;5;124m\"\u001b[39m\u001b[38;5;124mhas_index_names\u001b[39m\u001b[38;5;124m\"\u001b[39m] \u001b[38;5;241m=\u001b[39m kwds[\u001b[38;5;124m\"\u001b[39m\u001b[38;5;124mhas_index_names\u001b[39m\u001b[38;5;124m\"\u001b[39m]\n\u001b[0;32m   1406\u001b[0m \u001b[38;5;28mself\u001b[39m\u001b[38;5;241m.\u001b[39mhandles: IOHandles \u001b[38;5;241m|\u001b[39m \u001b[38;5;28;01mNone\u001b[39;00m \u001b[38;5;241m=\u001b[39m \u001b[38;5;28;01mNone\u001b[39;00m\n\u001b[1;32m-> 1407\u001b[0m \u001b[38;5;28mself\u001b[39m\u001b[38;5;241m.\u001b[39m_engine \u001b[38;5;241m=\u001b[39m \u001b[38;5;28;43mself\u001b[39;49m\u001b[38;5;241;43m.\u001b[39;49m\u001b[43m_make_engine\u001b[49m\u001b[43m(\u001b[49m\u001b[43mf\u001b[49m\u001b[43m,\u001b[49m\u001b[43m \u001b[49m\u001b[38;5;28;43mself\u001b[39;49m\u001b[38;5;241;43m.\u001b[39;49m\u001b[43mengine\u001b[49m\u001b[43m)\u001b[49m\n",
      "File \u001b[1;32m~\\anaconda3\\lib\\site-packages\\pandas\\io\\parsers\\readers.py:1661\u001b[0m, in \u001b[0;36mTextFileReader._make_engine\u001b[1;34m(self, f, engine)\u001b[0m\n\u001b[0;32m   1659\u001b[0m     \u001b[38;5;28;01mif\u001b[39;00m \u001b[38;5;124m\"\u001b[39m\u001b[38;5;124mb\u001b[39m\u001b[38;5;124m\"\u001b[39m \u001b[38;5;129;01mnot\u001b[39;00m \u001b[38;5;129;01min\u001b[39;00m mode:\n\u001b[0;32m   1660\u001b[0m         mode \u001b[38;5;241m+\u001b[39m\u001b[38;5;241m=\u001b[39m \u001b[38;5;124m\"\u001b[39m\u001b[38;5;124mb\u001b[39m\u001b[38;5;124m\"\u001b[39m\n\u001b[1;32m-> 1661\u001b[0m \u001b[38;5;28mself\u001b[39m\u001b[38;5;241m.\u001b[39mhandles \u001b[38;5;241m=\u001b[39m \u001b[43mget_handle\u001b[49m\u001b[43m(\u001b[49m\n\u001b[0;32m   1662\u001b[0m \u001b[43m    \u001b[49m\u001b[43mf\u001b[49m\u001b[43m,\u001b[49m\n\u001b[0;32m   1663\u001b[0m \u001b[43m    \u001b[49m\u001b[43mmode\u001b[49m\u001b[43m,\u001b[49m\n\u001b[0;32m   1664\u001b[0m \u001b[43m    \u001b[49m\u001b[43mencoding\u001b[49m\u001b[38;5;241;43m=\u001b[39;49m\u001b[38;5;28;43mself\u001b[39;49m\u001b[38;5;241;43m.\u001b[39;49m\u001b[43moptions\u001b[49m\u001b[38;5;241;43m.\u001b[39;49m\u001b[43mget\u001b[49m\u001b[43m(\u001b[49m\u001b[38;5;124;43m\"\u001b[39;49m\u001b[38;5;124;43mencoding\u001b[39;49m\u001b[38;5;124;43m\"\u001b[39;49m\u001b[43m,\u001b[49m\u001b[43m \u001b[49m\u001b[38;5;28;43;01mNone\u001b[39;49;00m\u001b[43m)\u001b[49m\u001b[43m,\u001b[49m\n\u001b[0;32m   1665\u001b[0m \u001b[43m    \u001b[49m\u001b[43mcompression\u001b[49m\u001b[38;5;241;43m=\u001b[39;49m\u001b[38;5;28;43mself\u001b[39;49m\u001b[38;5;241;43m.\u001b[39;49m\u001b[43moptions\u001b[49m\u001b[38;5;241;43m.\u001b[39;49m\u001b[43mget\u001b[49m\u001b[43m(\u001b[49m\u001b[38;5;124;43m\"\u001b[39;49m\u001b[38;5;124;43mcompression\u001b[39;49m\u001b[38;5;124;43m\"\u001b[39;49m\u001b[43m,\u001b[49m\u001b[43m \u001b[49m\u001b[38;5;28;43;01mNone\u001b[39;49;00m\u001b[43m)\u001b[49m\u001b[43m,\u001b[49m\n\u001b[0;32m   1666\u001b[0m \u001b[43m    \u001b[49m\u001b[43mmemory_map\u001b[49m\u001b[38;5;241;43m=\u001b[39;49m\u001b[38;5;28;43mself\u001b[39;49m\u001b[38;5;241;43m.\u001b[39;49m\u001b[43moptions\u001b[49m\u001b[38;5;241;43m.\u001b[39;49m\u001b[43mget\u001b[49m\u001b[43m(\u001b[49m\u001b[38;5;124;43m\"\u001b[39;49m\u001b[38;5;124;43mmemory_map\u001b[39;49m\u001b[38;5;124;43m\"\u001b[39;49m\u001b[43m,\u001b[49m\u001b[43m \u001b[49m\u001b[38;5;28;43;01mFalse\u001b[39;49;00m\u001b[43m)\u001b[49m\u001b[43m,\u001b[49m\n\u001b[0;32m   1667\u001b[0m \u001b[43m    \u001b[49m\u001b[43mis_text\u001b[49m\u001b[38;5;241;43m=\u001b[39;49m\u001b[43mis_text\u001b[49m\u001b[43m,\u001b[49m\n\u001b[0;32m   1668\u001b[0m \u001b[43m    \u001b[49m\u001b[43merrors\u001b[49m\u001b[38;5;241;43m=\u001b[39;49m\u001b[38;5;28;43mself\u001b[39;49m\u001b[38;5;241;43m.\u001b[39;49m\u001b[43moptions\u001b[49m\u001b[38;5;241;43m.\u001b[39;49m\u001b[43mget\u001b[49m\u001b[43m(\u001b[49m\u001b[38;5;124;43m\"\u001b[39;49m\u001b[38;5;124;43mencoding_errors\u001b[39;49m\u001b[38;5;124;43m\"\u001b[39;49m\u001b[43m,\u001b[49m\u001b[43m \u001b[49m\u001b[38;5;124;43m\"\u001b[39;49m\u001b[38;5;124;43mstrict\u001b[39;49m\u001b[38;5;124;43m\"\u001b[39;49m\u001b[43m)\u001b[49m\u001b[43m,\u001b[49m\n\u001b[0;32m   1669\u001b[0m \u001b[43m    \u001b[49m\u001b[43mstorage_options\u001b[49m\u001b[38;5;241;43m=\u001b[39;49m\u001b[38;5;28;43mself\u001b[39;49m\u001b[38;5;241;43m.\u001b[39;49m\u001b[43moptions\u001b[49m\u001b[38;5;241;43m.\u001b[39;49m\u001b[43mget\u001b[49m\u001b[43m(\u001b[49m\u001b[38;5;124;43m\"\u001b[39;49m\u001b[38;5;124;43mstorage_options\u001b[39;49m\u001b[38;5;124;43m\"\u001b[39;49m\u001b[43m,\u001b[49m\u001b[43m \u001b[49m\u001b[38;5;28;43;01mNone\u001b[39;49;00m\u001b[43m)\u001b[49m\u001b[43m,\u001b[49m\n\u001b[0;32m   1670\u001b[0m \u001b[43m\u001b[49m\u001b[43m)\u001b[49m\n\u001b[0;32m   1671\u001b[0m \u001b[38;5;28;01massert\u001b[39;00m \u001b[38;5;28mself\u001b[39m\u001b[38;5;241m.\u001b[39mhandles \u001b[38;5;129;01mis\u001b[39;00m \u001b[38;5;129;01mnot\u001b[39;00m \u001b[38;5;28;01mNone\u001b[39;00m\n\u001b[0;32m   1672\u001b[0m f \u001b[38;5;241m=\u001b[39m \u001b[38;5;28mself\u001b[39m\u001b[38;5;241m.\u001b[39mhandles\u001b[38;5;241m.\u001b[39mhandle\n",
      "File \u001b[1;32m~\\anaconda3\\lib\\site-packages\\pandas\\io\\common.py:859\u001b[0m, in \u001b[0;36mget_handle\u001b[1;34m(path_or_buf, mode, encoding, compression, memory_map, is_text, errors, storage_options)\u001b[0m\n\u001b[0;32m    854\u001b[0m \u001b[38;5;28;01melif\u001b[39;00m \u001b[38;5;28misinstance\u001b[39m(handle, \u001b[38;5;28mstr\u001b[39m):\n\u001b[0;32m    855\u001b[0m     \u001b[38;5;66;03m# Check whether the filename is to be opened in binary mode.\u001b[39;00m\n\u001b[0;32m    856\u001b[0m     \u001b[38;5;66;03m# Binary mode does not support 'encoding' and 'newline'.\u001b[39;00m\n\u001b[0;32m    857\u001b[0m     \u001b[38;5;28;01mif\u001b[39;00m ioargs\u001b[38;5;241m.\u001b[39mencoding \u001b[38;5;129;01mand\u001b[39;00m \u001b[38;5;124m\"\u001b[39m\u001b[38;5;124mb\u001b[39m\u001b[38;5;124m\"\u001b[39m \u001b[38;5;129;01mnot\u001b[39;00m \u001b[38;5;129;01min\u001b[39;00m ioargs\u001b[38;5;241m.\u001b[39mmode:\n\u001b[0;32m    858\u001b[0m         \u001b[38;5;66;03m# Encoding\u001b[39;00m\n\u001b[1;32m--> 859\u001b[0m         handle \u001b[38;5;241m=\u001b[39m \u001b[38;5;28;43mopen\u001b[39;49m\u001b[43m(\u001b[49m\n\u001b[0;32m    860\u001b[0m \u001b[43m            \u001b[49m\u001b[43mhandle\u001b[49m\u001b[43m,\u001b[49m\n\u001b[0;32m    861\u001b[0m \u001b[43m            \u001b[49m\u001b[43mioargs\u001b[49m\u001b[38;5;241;43m.\u001b[39;49m\u001b[43mmode\u001b[49m\u001b[43m,\u001b[49m\n\u001b[0;32m    862\u001b[0m \u001b[43m            \u001b[49m\u001b[43mencoding\u001b[49m\u001b[38;5;241;43m=\u001b[39;49m\u001b[43mioargs\u001b[49m\u001b[38;5;241;43m.\u001b[39;49m\u001b[43mencoding\u001b[49m\u001b[43m,\u001b[49m\n\u001b[0;32m    863\u001b[0m \u001b[43m            \u001b[49m\u001b[43merrors\u001b[49m\u001b[38;5;241;43m=\u001b[39;49m\u001b[43merrors\u001b[49m\u001b[43m,\u001b[49m\n\u001b[0;32m    864\u001b[0m \u001b[43m            \u001b[49m\u001b[43mnewline\u001b[49m\u001b[38;5;241;43m=\u001b[39;49m\u001b[38;5;124;43m\"\u001b[39;49m\u001b[38;5;124;43m\"\u001b[39;49m\u001b[43m,\u001b[49m\n\u001b[0;32m    865\u001b[0m \u001b[43m        \u001b[49m\u001b[43m)\u001b[49m\n\u001b[0;32m    866\u001b[0m     \u001b[38;5;28;01melse\u001b[39;00m:\n\u001b[0;32m    867\u001b[0m         \u001b[38;5;66;03m# Binary mode\u001b[39;00m\n\u001b[0;32m    868\u001b[0m         handle \u001b[38;5;241m=\u001b[39m \u001b[38;5;28mopen\u001b[39m(handle, ioargs\u001b[38;5;241m.\u001b[39mmode)\n",
      "\u001b[1;31mFileNotFoundError\u001b[0m: [Errno 2] No such file or directory: 'crudeoil.csv'"
     ]
    }
   ],
   "source": [
    "import pandas as pd\n",
    "start_date = \"2016-06-23\"\n",
    "end_date = \"2023-05-30\"\n",
    "df = pd.read_csv(\"crudeoil.csv\")\n",
    "df.describe()"
   ]
  },
  {
   "cell_type": "code",
   "execution_count": 8,
   "id": "872f1b87",
   "metadata": {
    "jupyter": {
     "outputs_hidden": false
    },
    "pycharm": {
     "name": "#%%\n"
    }
   },
   "outputs": [
    {
     "data": {
      "text/html": [
       "<div>\n",
       "<style scoped>\n",
       "    .dataframe tbody tr th:only-of-type {\n",
       "        vertical-align: middle;\n",
       "    }\n",
       "\n",
       "    .dataframe tbody tr th {\n",
       "        vertical-align: top;\n",
       "    }\n",
       "\n",
       "    .dataframe thead th {\n",
       "        text-align: right;\n",
       "    }\n",
       "</style>\n",
       "<table border=\"1\" class=\"dataframe\">\n",
       "  <thead>\n",
       "    <tr style=\"text-align: right;\">\n",
       "      <th></th>\n",
       "      <th>Open</th>\n",
       "      <th>High</th>\n",
       "      <th>Low</th>\n",
       "      <th>Close</th>\n",
       "      <th>Adj Close</th>\n",
       "      <th>Volume</th>\n",
       "    </tr>\n",
       "    <tr>\n",
       "      <th>Date</th>\n",
       "      <th></th>\n",
       "      <th></th>\n",
       "      <th></th>\n",
       "      <th></th>\n",
       "      <th></th>\n",
       "      <th></th>\n",
       "    </tr>\n",
       "  </thead>\n",
       "  <tbody>\n",
       "    <tr>\n",
       "      <th>2016-06-23</th>\n",
       "      <td>49.080002</td>\n",
       "      <td>50.230000</td>\n",
       "      <td>49.080002</td>\n",
       "      <td>50.110001</td>\n",
       "      <td>50.110001</td>\n",
       "      <td>401885</td>\n",
       "    </tr>\n",
       "    <tr>\n",
       "      <th>2016-06-24</th>\n",
       "      <td>50.299999</td>\n",
       "      <td>50.450001</td>\n",
       "      <td>46.700001</td>\n",
       "      <td>47.639999</td>\n",
       "      <td>47.639999</td>\n",
       "      <td>649446</td>\n",
       "    </tr>\n",
       "    <tr>\n",
       "      <th>2016-06-27</th>\n",
       "      <td>47.810001</td>\n",
       "      <td>47.959999</td>\n",
       "      <td>45.830002</td>\n",
       "      <td>46.330002</td>\n",
       "      <td>46.330002</td>\n",
       "      <td>504613</td>\n",
       "    </tr>\n",
       "    <tr>\n",
       "      <th>2016-06-28</th>\n",
       "      <td>46.590000</td>\n",
       "      <td>48.180000</td>\n",
       "      <td>46.540001</td>\n",
       "      <td>47.849998</td>\n",
       "      <td>47.849998</td>\n",
       "      <td>498851</td>\n",
       "    </tr>\n",
       "    <tr>\n",
       "      <th>2016-06-29</th>\n",
       "      <td>48.060001</td>\n",
       "      <td>50.000000</td>\n",
       "      <td>47.980000</td>\n",
       "      <td>49.880001</td>\n",
       "      <td>49.880001</td>\n",
       "      <td>511476</td>\n",
       "    </tr>\n",
       "    <tr>\n",
       "      <th>...</th>\n",
       "      <td>...</td>\n",
       "      <td>...</td>\n",
       "      <td>...</td>\n",
       "      <td>...</td>\n",
       "      <td>...</td>\n",
       "      <td>...</td>\n",
       "    </tr>\n",
       "    <tr>\n",
       "      <th>2023-05-23</th>\n",
       "      <td>72.099998</td>\n",
       "      <td>73.790001</td>\n",
       "      <td>71.709999</td>\n",
       "      <td>72.910004</td>\n",
       "      <td>72.910004</td>\n",
       "      <td>317586</td>\n",
       "    </tr>\n",
       "    <tr>\n",
       "      <th>2023-05-24</th>\n",
       "      <td>73.769997</td>\n",
       "      <td>74.730003</td>\n",
       "      <td>73.129997</td>\n",
       "      <td>74.339996</td>\n",
       "      <td>74.339996</td>\n",
       "      <td>386611</td>\n",
       "    </tr>\n",
       "    <tr>\n",
       "      <th>2023-05-25</th>\n",
       "      <td>74.209999</td>\n",
       "      <td>74.370003</td>\n",
       "      <td>70.980003</td>\n",
       "      <td>71.830002</td>\n",
       "      <td>71.830002</td>\n",
       "      <td>422637</td>\n",
       "    </tr>\n",
       "    <tr>\n",
       "      <th>2023-05-26</th>\n",
       "      <td>71.889999</td>\n",
       "      <td>73.050003</td>\n",
       "      <td>71.489998</td>\n",
       "      <td>72.669998</td>\n",
       "      <td>72.669998</td>\n",
       "      <td>261498</td>\n",
       "    </tr>\n",
       "    <tr>\n",
       "      <th>2023-05-30</th>\n",
       "      <td>73.230003</td>\n",
       "      <td>73.550003</td>\n",
       "      <td>69.019997</td>\n",
       "      <td>69.459999</td>\n",
       "      <td>69.459999</td>\n",
       "      <td>440862</td>\n",
       "    </tr>\n",
       "  </tbody>\n",
       "</table>\n",
       "<p>1743 rows × 6 columns</p>\n",
       "</div>"
      ],
      "text/plain": [
       "                 Open       High        Low      Close  Adj Close  Volume\n",
       "Date                                                                     \n",
       "2016-06-23  49.080002  50.230000  49.080002  50.110001  50.110001  401885\n",
       "2016-06-24  50.299999  50.450001  46.700001  47.639999  47.639999  649446\n",
       "2016-06-27  47.810001  47.959999  45.830002  46.330002  46.330002  504613\n",
       "2016-06-28  46.590000  48.180000  46.540001  47.849998  47.849998  498851\n",
       "2016-06-29  48.060001  50.000000  47.980000  49.880001  49.880001  511476\n",
       "...               ...        ...        ...        ...        ...     ...\n",
       "2023-05-23  72.099998  73.790001  71.709999  72.910004  72.910004  317586\n",
       "2023-05-24  73.769997  74.730003  73.129997  74.339996  74.339996  386611\n",
       "2023-05-25  74.209999  74.370003  70.980003  71.830002  71.830002  422637\n",
       "2023-05-26  71.889999  73.050003  71.489998  72.669998  72.669998  261498\n",
       "2023-05-30  73.230003  73.550003  69.019997  69.459999  69.459999  440862\n",
       "\n",
       "[1743 rows x 6 columns]"
      ]
     },
     "execution_count": 8,
     "metadata": {},
     "output_type": "execute_result"
    }
   ],
   "source": [
    "df['Date'] = pd.to_datetime(df['Date'], format='%Y-%m-%d')\n",
    "df.set_index('Date', inplace=True)\n",
    "df"
   ]
  },
  {
   "cell_type": "code",
   "execution_count": 10,
   "id": "91367feb",
   "metadata": {
    "pycharm": {
     "name": "#%%\n"
    }
   },
   "outputs": [
    {
     "data": {
      "image/png": "[encoded data removed]",
      "text/plain": [
       "<Figure size 864x432 with 1 Axes>"
      ]
     },
     "metadata": {
      "needs_background": "light"
     },
     "output_type": "display_data"
    }
   ],
   "source": [
    "import matplotlib.pyplot as plt \n",
    "\n",
    "#原油期货价格\n",
    "\n",
    "plt.figure(figsize = (12, 6))\n",
    "plt.plot( df.index,df['Close'], label = 'Crude Oil Time-Series Plot', color = 'blue')\n",
    "plt.title('WTI Crude Oil Futures Price')\n",
    "plt.xlabel('Date')\n",
    "plt.ylabel('Price (USD)')\n",
    "plt.legend()\n",
    "plt.grid(True)\n",
    "\n",
    "plt.show()\n"
   ]
  },
  {
   "cell_type": "code",
   "execution_count": 13,
   "id": "940f41e7",
   "metadata": {
    "pycharm": {
     "name": "#%%\n"
    }
   },
   "outputs": [
    {
     "data": {
      "text/plain": [
       "<Figure size 720x288 with 0 Axes>"
      ]
     },
     "metadata": {},
     "output_type": "display_data"
    },
    {
     "data": {
      "image/png": "[encoded data removed]",
      "text/plain": [
       "<Figure size 432x288 with 1 Axes>"
      ]
     },
     "metadata": {
      "needs_background": "light"
     },
     "output_type": "display_data"
    }
   ],
   "source": [
    "# AUTO CORRELATION \n",
    "\n",
    "import statsmodels.api as sm\n",
    "\n",
    "# Assuming you have a DataFrame df with a 'Close' column\n",
    "# You can replace 'Close' with the specific column you want to analyze\n",
    "\n",
    "# WTI原油期货的收盘价自相关函数图形。自相关是时间序列数据与其自身在不同滞后（lags）下的相关性。\n",
    "# 自相关度量的是一个时间序列与其自身在不同滞后值时的相关性。例如，滞后为1的自相关将比较时间t和t-1的数据，滞后为2的自相关将比较时间t和t-2的数据，依此类推。\n",
    "# 绘制自相关图: 使用sm.graphics.tsa.plot_acf函数绘制自相关图。这个图显示了各种滞后值（从0到数据长度减1）对应的自相关值。alpha=0.05参数表示绘制的置信区间是95%（1-0.05）。\n",
    "\n",
    "# Calculate the autocorrelation function (ACF)\n",
    "acf = sm.tsa.acf(df['Close'], fft=False)\n",
    "\n",
    "# Create the autocorrelation plot\n",
    "plt.figure(figsize=(10, 4))\n",
    "sm.graphics.tsa.plot_acf(df['Close'], lags=len(df)-1, alpha=0.05)\n",
    "plt.title('Autocorrelation Plot of WTI Crude Oil Futures Price')\n",
    "plt.xlabel('Lag')\n",
    "plt.ylabel('Autocorrelation')\n",
    "plt.grid(True)\n",
    "\n",
    "# Show the plot\n",
    "plt.show()"
   ]
  },
  {
   "cell_type": "code",
   "execution_count": 14,
   "id": "41352e78",
   "metadata": {
    "pycharm": {
     "name": "#%%\n"
    }
   },
   "outputs": [
    {
     "data": {
      "text/plain": [
       "<Figure size 576x432 with 0 Axes>"
      ]
     },
     "metadata": {},
     "output_type": "display_data"
    },
    {
     "data": {
      "image/png": "[encoded data removed]",
      "text/plain": [
       "<Figure size 432x288 with 1 Axes>"
      ]
     },
     "metadata": {
      "needs_background": "light"
     },
     "output_type": "display_data"
    }
   ],
   "source": [
    "# QQ plot Quantile-Quantile Plot\n",
    "import numpy as np\n",
    "\n",
    "# Assuming you have a DataFrame df with a 'Close' column\n",
    "# You can replace 'Close' with the specific column you want to analyze\n",
    "\n",
    "# Quantile-Quantile图（通常称为QQ图），比较WTI原油期货价格的分布与理论的正态分布之间的差异。\n",
    "\"\"\"\n",
    "Quantile-Quantile图 (QQ图): QQ图是一种用于比较两个概率分布的图形化工具。\n",
    "通常，其中一个分布是你的数据，而另一个分布是一个理论分布（在这种情况下是正态分布）。\n",
    "该图的每个点代表数据集和理论分布的特定分位数。如果两者分布相同，则点会沿45度线对齐。\n",
    "\n",
    "生成理论的正态分布: 使用给定时间序列数据的平均值和标准偏差，生成一个与数据相同大小的理论的正态分布样本。这为QQ图提供了比较的基础。\n",
    "\n",
    "关于原油价格的备注: 代码的最后有一个注释，提到原油价格接近正态分布，但是“fat-tailed”。\n",
    "这意味着虽然价格大部分情况下接近正态分布，但在尾部（即极端值）有更多的观测值，比正态分布预期的要多。\n",
    "这是许多金融时间序列的一个常见特点，尤其是当涉及到资产价格的大幅波动时。\n",
    "\"\"\"\n",
    "# Generate a theoretical normal distribution for comparison\n",
    "mean, std_dev = np.mean(df['Close']), np.std(df['Close'])\n",
    "theoretical_normal = np.random.normal(loc=mean, scale=std_dev, size=len(df))\n",
    "\n",
    "# Create the QQ plot\n",
    "plt.figure(figsize=(8, 6))\n",
    "sm.qqplot(df['Close'], line='45', fit=True, marker='o', alpha=0.5)\n",
    "plt.title('QQ Plot for WTI Crude Oil Futures Price')\n",
    "plt.grid(True)\n",
    "\n",
    "# Show the plot\n",
    "plt.show()\n",
    "\n",
    "# it shows that the crude oil is close to normal distribution, but fat-tailed"
   ]
  },
  {
   "cell_type": "code",
   "execution_count": 15,
   "id": "8a585a26",
   "metadata": {
    "pycharm": {
     "name": "#%%\n"
    }
   },
   "outputs": [
    {
     "data": {
      "image/png": "[encoded data removed]",
      "text/plain": [
       "<Figure size 576x432 with 1 Axes>"
      ]
     },
     "metadata": {
      "needs_background": "light"
     },
     "output_type": "display_data"
    }
   ],
   "source": [
    "# PP plot - probability plot \n",
    "import scipy.stats as stats\n",
    "# 创建一个概率图（也称为PP图，或Probability Plot），用于评估WTI原油期货价格是否遵循某一理论分布，通常是正态分布。\n",
    "\n",
    "# Create the probability plot\n",
    "plt.figure(figsize=(8, 6))\n",
    "stats.probplot(df['Close'], plot=plt)\n",
    "plt.title('Probability Plot for WTI Crude Oil Futures Price')\n",
    "plt.grid(True)\n",
    "\n",
    "# Show the plot\n",
    "plt.show()"
   ]
  },
  {
   "cell_type": "code",
   "execution_count": 16,
   "id": "271b3249",
   "metadata": {
    "pycharm": {
     "name": "#%%\n"
    }
   },
   "outputs": [
    {
     "name": "stderr",
     "output_type": "stream",
     "text": [
      "/root/miniconda3/lib/python3.8/site-packages/pandas/core/arraylike.py:396: RuntimeWarning: invalid value encountered in log\n",
      "  result = getattr(ufunc, method)(*inputs, **kwargs)\n"
     ]
    },
    {
     "data": {
      "image/png": "[encoded data removed]",
      "text/plain": [
       "<Figure size 864x432 with 1 Axes>"
      ]
     },
     "metadata": {
      "needs_background": "light"
     },
     "output_type": "display_data"
    }
   ],
   "source": [
    "# Log return - shows periodic volatility \n",
    "import pandas as pd\n",
    "\n",
    "df['Log_Return'] = np.log(df['Close'] / df['Close'].shift(1))  #log_return = today_price / yesterday_price \n",
    "\n",
    "\n",
    "# 计算WTI原油期货价格的对数收益率并绘制其时间序列图。对数收益率是金融领域常用的一个指标，可以反映资产价格变化的百分比\n",
    "\n",
    "# Drop rows with NaN values (resulting from the shift operation)\n",
    "df = df.dropna()\n",
    "\n",
    "# Create a time series plot of the log returns\n",
    "plt.figure(figsize=(12, 6))\n",
    "plt.plot(df.index, df['Log_Return'], label='Log Returns', color='blue')\n",
    "plt.title('Log Returns of WTI Crude Oil Futures Price')\n",
    "plt.xlabel('Date')\n",
    "plt.ylabel('Log Return')\n",
    "plt.legend()\n",
    "plt.grid(True)\n",
    "\n",
    "# Show the plot\n",
    "plt.show()\n"
   ]
  },
  {
   "cell_type": "code",
   "execution_count": 17,
   "id": "a0155b4d",
   "metadata": {
    "pycharm": {
     "name": "#%%\n"
    }
   },
   "outputs": [
    {
     "data": {
      "image/png": "[encoded data removed]",
      "text/plain": [
       "<Figure size 864x576 with 1 Axes>"
      ]
     },
     "metadata": {
      "needs_background": "light"
     },
     "output_type": "display_data"
    },
    {
     "data": {
      "image/png": "[encoded data removed]",
      "text/plain": [
       "<Figure size 864x576 with 1 Axes>"
      ]
     },
     "metadata": {
      "needs_background": "light"
     },
     "output_type": "display_data"
    }
   ],
   "source": [
    "from statsmodels.graphics.tsaplots import plot_acf, plot_pacf\n",
    "\"\"\"\n",
    "为WTI原油期货价格的对数收益率绘制自相关函数(ACF)和偏自相关函数(PACF)的图形。\n",
    "ACF和PACF都是时间序列分析中的关键工具，用于理解时间序列数据的相关性结构。\n",
    "\"\"\"\n",
    "\n",
    "fig = plt.figure(figsize = (12,8))\n",
    "axis1 = fig.add_subplot(211)\n",
    "fig = sm.graphics.tsa.plot_acf(df['Log_Return'], ax=axis1)\n",
    "\n",
    "fig = plt.figure(figsize = (12,8))\n",
    "axis2 = fig.add_subplot(211)\n",
    "fig = sm.graphics.tsa.plot_pacf(df['Log_Return'], ax = axis2)\n"
   ]
  },
  {
   "cell_type": "code",
   "execution_count": 18,
   "id": "056d40ff",
   "metadata": {
    "pycharm": {
     "name": "#%%\n"
    }
   },
   "outputs": [
    {
     "name": "stdout",
     "output_type": "stream",
     "text": [
      "                               SARIMAX Results                                \n",
      "==============================================================================\n",
      "Dep. Variable:             Log_Return   No. Observations:                 1740\n",
      "Model:                          ARIMA   Log Likelihood                3594.416\n",
      "Date:                Sun, 01 Oct 2023   AIC                          -7184.832\n",
      "Time:                        19:58:25   BIC                          -7173.909\n",
      "Sample:                             0   HQIC                         -7180.793\n",
      "                               - 1740                                         \n",
      "Covariance Type:                  opg                                         \n",
      "==============================================================================\n",
      "                 coef    std err          z      P>|z|      [0.025      0.975]\n",
      "------------------------------------------------------------------------------\n",
      "const          0.0005      0.001      0.719      0.472      -0.001       0.002\n",
      "sigma2         0.0009   8.56e-06    109.814      0.000       0.001       0.001\n",
      "===================================================================================\n",
      "Ljung-Box (L1) (Q):                   0.40   Jarque-Bera (JB):             47910.40\n",
      "Prob(Q):                              0.53   Prob(JB):                         0.00\n",
      "Heteroskedasticity (H):               2.11   Skew:                             0.05\n",
      "Prob(H) (two-sided):                  0.00   Kurtosis:                        28.71\n",
      "===================================================================================\n",
      "\n",
      "Warnings:\n",
      "[1] Covariance matrix calculated using the outer product of gradients (complex-step).\n"
     ]
    }
   ],
   "source": [
    "from statsmodels.tsa.arima.model import ARIMA \n",
    "import warnings\n",
    "warnings.filterwarnings('ignore')\n",
    "\n",
    "model = ARIMA(df['Log_Return'], order = (0,0,0))\n",
    "model_fit = model.fit()\n",
    "\n",
    "print(model_fit.summary())\n"
   ]
  },
  {
   "cell_type": "code",
   "execution_count": 19,
   "id": "47b76037",
   "metadata": {
    "pycharm": {
     "name": "#%%\n"
    }
   },
   "outputs": [
    {
     "name": "stdout",
     "output_type": "stream",
     "text": [
      "Best AIC: -7203.054783305777\n",
      "Best ARIMA model: (4, 0, 2)\n"
     ]
    }
   ],
   "source": [
    "import warnings\n",
    "#搜寻最好的参数\n",
    "\n",
    "warnings.filterwarnings('ignore')\n",
    "\n",
    "p_range = range(5)\n",
    "q_range = range(4)\n",
    "d_range = range(3)\n",
    "best_aic = 0 \n",
    "best_order = None \n",
    "\n",
    "for p in p_range:\n",
    "    for q in q_range:\n",
    "        for d in d_range:\n",
    "            model = ARIMA(df['Log_Return'], order = (p,d,q))\n",
    "            model_fit = model.fit()\n",
    "            aic_temp = model_fit.aic\n",
    "            if aic_temp < best_aic:\n",
    "                best_order = model.order\n",
    "                best_aic = aic_temp\n",
    "    \n",
    "print('Best AIC: ' + str(best_aic))\n",
    "print('Best ARIMA model: ' + str(best_order))\n"
   ]
  },
  {
   "cell_type": "code",
   "execution_count": null,
   "id": "9a4a9839",
   "metadata": {
    "jupyter": {
     "outputs_hidden": false
    },
    "pycharm": {
     "name": "#%%\n"
    }
   },
   "outputs": [],
   "source": []
  },
  {
   "cell_type": "code",
   "execution_count": 43,
   "id": "81d4fc58",
   "metadata": {
    "pycharm": {
     "name": "#%%\n"
    }
   },
   "outputs": [],
   "source": [
    "#使用最佳的参数进行拟合\n",
    "model = ARIMA(df['Log_Return'], order = (4,0,2))\n",
    "results = model.fit()"
   ]
  },
  {
   "cell_type": "code",
   "execution_count": 44,
   "id": "220da2f5-e839-4396-bd1a-ea50e410edca",
   "metadata": {
    "pycharm": {
     "name": "#%%\n"
    }
   },
   "outputs": [
    {
     "data": {
      "text/plain": [
       "Date\n",
       "2016-06-24    0.000538\n",
       "2016-06-27    0.000538\n",
       "2016-06-28    0.000538\n",
       "2016-06-29    0.000538\n",
       "2016-06-30    0.000538\n",
       "                ...   \n",
       "2023-05-23    0.000538\n",
       "2023-05-24    0.000538\n",
       "2023-05-25    0.000538\n",
       "2023-05-26    0.000538\n",
       "2023-05-30    0.000538\n",
       "Name: predicted_mean, Length: 1740, dtype: float64"
      ]
     },
     "execution_count": 44,
     "metadata": {},
     "output_type": "execute_result"
    }
   ],
   "source": [
    "#star 和 end 是用序号\n",
    "results.predict(star=1,end=len(df)-1,dynamic=True)"
   ]
  },
  {
   "cell_type": "code",
   "execution_count": 45,
   "id": "873f745b",
   "metadata": {
    "jupyter": {
     "outputs_hidden": false
    },
    "pycharm": {
     "name": "#%%\n"
    }
   },
   "outputs": [
    {
     "data": {
      "text/html": [
       "<div>\n",
       "<style scoped>\n",
       "    .dataframe tbody tr th:only-of-type {\n",
       "        vertical-align: middle;\n",
       "    }\n",
       "\n",
       "    .dataframe tbody tr th {\n",
       "        vertical-align: top;\n",
       "    }\n",
       "\n",
       "    .dataframe thead th {\n",
       "        text-align: right;\n",
       "    }\n",
       "</style>\n",
       "<table border=\"1\" class=\"dataframe\">\n",
       "  <thead>\n",
       "    <tr style=\"text-align: right;\">\n",
       "      <th></th>\n",
       "      <th>Open</th>\n",
       "      <th>High</th>\n",
       "      <th>Low</th>\n",
       "      <th>Close</th>\n",
       "      <th>Adj Close</th>\n",
       "      <th>Volume</th>\n",
       "      <th>Log_Return</th>\n",
       "      <th>Forcast_log</th>\n",
       "      <th>Forcast_Price</th>\n",
       "    </tr>\n",
       "    <tr>\n",
       "      <th>Date</th>\n",
       "      <th></th>\n",
       "      <th></th>\n",
       "      <th></th>\n",
       "      <th></th>\n",
       "      <th></th>\n",
       "      <th></th>\n",
       "      <th></th>\n",
       "      <th></th>\n",
       "      <th></th>\n",
       "    </tr>\n",
       "  </thead>\n",
       "  <tbody>\n",
       "    <tr>\n",
       "      <th>2016-06-24</th>\n",
       "      <td>50.299999</td>\n",
       "      <td>50.450001</td>\n",
       "      <td>46.700001</td>\n",
       "      <td>47.639999</td>\n",
       "      <td>47.639999</td>\n",
       "      <td>649446</td>\n",
       "      <td>-0.050548</td>\n",
       "      <td>0.000538</td>\n",
       "      <td>NaN</td>\n",
       "    </tr>\n",
       "    <tr>\n",
       "      <th>2016-06-27</th>\n",
       "      <td>47.810001</td>\n",
       "      <td>47.959999</td>\n",
       "      <td>45.830002</td>\n",
       "      <td>46.330002</td>\n",
       "      <td>46.330002</td>\n",
       "      <td>504613</td>\n",
       "      <td>-0.027883</td>\n",
       "      <td>0.000538</td>\n",
       "      <td>47.665643</td>\n",
       "    </tr>\n",
       "    <tr>\n",
       "      <th>2016-06-28</th>\n",
       "      <td>46.590000</td>\n",
       "      <td>48.180000</td>\n",
       "      <td>46.540001</td>\n",
       "      <td>47.849998</td>\n",
       "      <td>47.849998</td>\n",
       "      <td>498851</td>\n",
       "      <td>0.032281</td>\n",
       "      <td>0.000538</td>\n",
       "      <td>46.354941</td>\n",
       "    </tr>\n",
       "    <tr>\n",
       "      <th>2016-06-29</th>\n",
       "      <td>48.060001</td>\n",
       "      <td>50.000000</td>\n",
       "      <td>47.980000</td>\n",
       "      <td>49.880001</td>\n",
       "      <td>49.880001</td>\n",
       "      <td>511476</td>\n",
       "      <td>0.041549</td>\n",
       "      <td>0.000538</td>\n",
       "      <td>47.875756</td>\n",
       "    </tr>\n",
       "    <tr>\n",
       "      <th>2016-06-30</th>\n",
       "      <td>49.549999</td>\n",
       "      <td>49.619999</td>\n",
       "      <td>48.169998</td>\n",
       "      <td>48.330002</td>\n",
       "      <td>48.330002</td>\n",
       "      <td>508736</td>\n",
       "      <td>-0.031568</td>\n",
       "      <td>0.000538</td>\n",
       "      <td>49.906851</td>\n",
       "    </tr>\n",
       "    <tr>\n",
       "      <th>...</th>\n",
       "      <td>...</td>\n",
       "      <td>...</td>\n",
       "      <td>...</td>\n",
       "      <td>...</td>\n",
       "      <td>...</td>\n",
       "      <td>...</td>\n",
       "      <td>...</td>\n",
       "      <td>...</td>\n",
       "      <td>...</td>\n",
       "    </tr>\n",
       "    <tr>\n",
       "      <th>2023-05-23</th>\n",
       "      <td>72.099998</td>\n",
       "      <td>73.790001</td>\n",
       "      <td>71.709999</td>\n",
       "      <td>72.910004</td>\n",
       "      <td>72.910004</td>\n",
       "      <td>317586</td>\n",
       "      <td>0.012699</td>\n",
       "      <td>0.000538</td>\n",
       "      <td>72.028749</td>\n",
       "    </tr>\n",
       "    <tr>\n",
       "      <th>2023-05-24</th>\n",
       "      <td>73.769997</td>\n",
       "      <td>74.730003</td>\n",
       "      <td>73.129997</td>\n",
       "      <td>74.339996</td>\n",
       "      <td>74.339996</td>\n",
       "      <td>386611</td>\n",
       "      <td>0.019423</td>\n",
       "      <td>0.000538</td>\n",
       "      <td>72.949250</td>\n",
       "    </tr>\n",
       "    <tr>\n",
       "      <th>2023-05-25</th>\n",
       "      <td>74.209999</td>\n",
       "      <td>74.370003</td>\n",
       "      <td>70.980003</td>\n",
       "      <td>71.830002</td>\n",
       "      <td>71.830002</td>\n",
       "      <td>422637</td>\n",
       "      <td>-0.034347</td>\n",
       "      <td>0.000538</td>\n",
       "      <td>74.380013</td>\n",
       "    </tr>\n",
       "    <tr>\n",
       "      <th>2023-05-26</th>\n",
       "      <td>71.889999</td>\n",
       "      <td>73.050003</td>\n",
       "      <td>71.489998</td>\n",
       "      <td>72.669998</td>\n",
       "      <td>72.669998</td>\n",
       "      <td>261498</td>\n",
       "      <td>0.011626</td>\n",
       "      <td>0.000538</td>\n",
       "      <td>71.868667</td>\n",
       "    </tr>\n",
       "    <tr>\n",
       "      <th>2023-05-30</th>\n",
       "      <td>73.230003</td>\n",
       "      <td>73.550003</td>\n",
       "      <td>69.019997</td>\n",
       "      <td>69.459999</td>\n",
       "      <td>69.459999</td>\n",
       "      <td>440862</td>\n",
       "      <td>-0.045178</td>\n",
       "      <td>0.000538</td>\n",
       "      <td>72.709116</td>\n",
       "    </tr>\n",
       "  </tbody>\n",
       "</table>\n",
       "<p>1740 rows × 9 columns</p>\n",
       "</div>"
      ],
      "text/plain": [
       "                 Open       High        Low      Close  Adj Close  Volume  \\\n",
       "Date                                                                        \n",
       "2016-06-24  50.299999  50.450001  46.700001  47.639999  47.639999  649446   \n",
       "2016-06-27  47.810001  47.959999  45.830002  46.330002  46.330002  504613   \n",
       "2016-06-28  46.590000  48.180000  46.540001  47.849998  47.849998  498851   \n",
       "2016-06-29  48.060001  50.000000  47.980000  49.880001  49.880001  511476   \n",
       "2016-06-30  49.549999  49.619999  48.169998  48.330002  48.330002  508736   \n",
       "...               ...        ...        ...        ...        ...     ...   \n",
       "2023-05-23  72.099998  73.790001  71.709999  72.910004  72.910004  317586   \n",
       "2023-05-24  73.769997  74.730003  73.129997  74.339996  74.339996  386611   \n",
       "2023-05-25  74.209999  74.370003  70.980003  71.830002  71.830002  422637   \n",
       "2023-05-26  71.889999  73.050003  71.489998  72.669998  72.669998  261498   \n",
       "2023-05-30  73.230003  73.550003  69.019997  69.459999  69.459999  440862   \n",
       "\n",
       "            Log_Return  Forcast_log  Forcast_Price  \n",
       "Date                                                \n",
       "2016-06-24   -0.050548     0.000538            NaN  \n",
       "2016-06-27   -0.027883     0.000538      47.665643  \n",
       "2016-06-28    0.032281     0.000538      46.354941  \n",
       "2016-06-29    0.041549     0.000538      47.875756  \n",
       "2016-06-30   -0.031568     0.000538      49.906851  \n",
       "...                ...          ...            ...  \n",
       "2023-05-23    0.012699     0.000538      72.028749  \n",
       "2023-05-24    0.019423     0.000538      72.949250  \n",
       "2023-05-25   -0.034347     0.000538      74.380013  \n",
       "2023-05-26    0.011626     0.000538      71.868667  \n",
       "2023-05-30   -0.045178     0.000538      72.709116  \n",
       "\n",
       "[1740 rows x 9 columns]"
      ]
     },
     "execution_count": 45,
     "metadata": {},
     "output_type": "execute_result"
    }
   ],
   "source": [
    "from datetime import datetime\n",
    "#预测 \n",
    "F_log = results.predict(dynamic=True)\n",
    "df['Forcast_log'] = F_log.values\n",
    "\n",
    "df"
   ]
  },
  {
   "cell_type": "code",
   "execution_count": 46,
   "id": "5b047f30",
   "metadata": {
    "pycharm": {
     "name": "#%%\n"
    }
   },
   "outputs": [],
   "source": [
    "# 使用公式df['Close'].shift(1) * np.exp(df['Forcast_log'])来从log return计算预测的价格。\n",
    "# df['Close'].shift(1)：这是前一天的收盘价。\n",
    "# np.exp(df['Forcast_log'])：这将log return转换为一个简单的价格倍数。\n",
    "\n",
    "df['Forcast_Price'] = df['Close'].shift(1) * np.exp(df['Forcast_log'])"
   ]
  },
  {
   "cell_type": "code",
   "execution_count": 47,
   "id": "60ac29cc",
   "metadata": {
    "pycharm": {
     "name": "#%%\n"
    }
   },
   "outputs": [
    {
     "data": {
      "text/plain": [
       "<AxesSubplot:xlabel='Date'>"
      ]
     },
     "execution_count": 47,
     "metadata": {},
     "output_type": "execute_result"
    },
    {
     "data": {
      "image/png": "[encoded data removed]",
      "text/plain": [
       "<Figure size 864x576 with 1 Axes>"
      ]
     },
     "metadata": {
      "needs_background": "light"
     },
     "output_type": "display_data"
    }
   ],
   "source": [
    "df[['Close', 'Forcast_Price']].plot(figsize=(12,8))"
   ]
  },
  {
   "cell_type": "code",
   "execution_count": null,
   "id": "f9100d6f-f38f-41e3-8323-69bd225d9da2",
   "metadata": {
    "pycharm": {
     "name": "#%%\n"
    }
   },
   "outputs": [],
   "source": []
  },
  {
   "cell_type": "code",
   "execution_count": 125,
   "id": "d67636b4",
   "metadata": {
    "jupyter": {
     "outputs_hidden": false
    },
    "pycharm": {
     "name": "#%%\n"
    }
   },
   "outputs": [
    {
     "data": {
      "text/plain": [
       "DatetimeIndex(['2023-05-30', '2023-05-31', '2023-06-01', '2023-06-02',\n",
       "               '2023-06-03', '2023-06-04', '2023-06-05', '2023-06-06',\n",
       "               '2023-06-07', '2023-06-08',\n",
       "               ...\n",
       "               '2024-05-24', '2024-05-25', '2024-05-26', '2024-05-27',\n",
       "               '2024-05-28', '2024-05-29', '2024-05-30', '2024-05-31',\n",
       "               '2024-06-01', '2024-06-02'],\n",
       "              dtype='datetime64[ns]', length=370, freq=None)"
      ]
     },
     "execution_count": 125,
     "metadata": {},
     "output_type": "execute_result"
    }
   ],
   "source": [
    "from pandas.tseries.offsets import DateOffset\n",
    "future_dates = pd.to_datetime([df.index[-1] + DateOffset(days=x) for x in range(0,370)])\n",
    "future_dates"
   ]
  },
  {
   "cell_type": "code",
   "execution_count": 126,
   "id": "b0970cc8",
   "metadata": {
    "pycharm": {
     "name": "#%%\n"
    }
   },
   "outputs": [
    {
     "data": {
      "text/html": [
       "<div>\n",
       "<style scoped>\n",
       "    .dataframe tbody tr th:only-of-type {\n",
       "        vertical-align: middle;\n",
       "    }\n",
       "\n",
       "    .dataframe tbody tr th {\n",
       "        vertical-align: top;\n",
       "    }\n",
       "\n",
       "    .dataframe thead th {\n",
       "        text-align: right;\n",
       "    }\n",
       "</style>\n",
       "<table border=\"1\" class=\"dataframe\">\n",
       "  <thead>\n",
       "    <tr style=\"text-align: right;\">\n",
       "      <th></th>\n",
       "      <th>Open</th>\n",
       "      <th>High</th>\n",
       "      <th>Low</th>\n",
       "      <th>Close</th>\n",
       "      <th>Adj Close</th>\n",
       "      <th>Volume</th>\n",
       "      <th>Log_Return</th>\n",
       "      <th>Forcast_log</th>\n",
       "      <th>Forcast_Price</th>\n",
       "    </tr>\n",
       "  </thead>\n",
       "  <tbody>\n",
       "    <tr>\n",
       "      <th>2023-05-31</th>\n",
       "      <td>NaN</td>\n",
       "      <td>NaN</td>\n",
       "      <td>NaN</td>\n",
       "      <td>NaN</td>\n",
       "      <td>NaN</td>\n",
       "      <td>NaN</td>\n",
       "      <td>NaN</td>\n",
       "      <td>NaN</td>\n",
       "      <td>NaN</td>\n",
       "    </tr>\n",
       "    <tr>\n",
       "      <th>2023-06-01</th>\n",
       "      <td>NaN</td>\n",
       "      <td>NaN</td>\n",
       "      <td>NaN</td>\n",
       "      <td>NaN</td>\n",
       "      <td>NaN</td>\n",
       "      <td>NaN</td>\n",
       "      <td>NaN</td>\n",
       "      <td>NaN</td>\n",
       "      <td>NaN</td>\n",
       "    </tr>\n",
       "    <tr>\n",
       "      <th>2023-06-02</th>\n",
       "      <td>NaN</td>\n",
       "      <td>NaN</td>\n",
       "      <td>NaN</td>\n",
       "      <td>NaN</td>\n",
       "      <td>NaN</td>\n",
       "      <td>NaN</td>\n",
       "      <td>NaN</td>\n",
       "      <td>NaN</td>\n",
       "      <td>NaN</td>\n",
       "    </tr>\n",
       "    <tr>\n",
       "      <th>2023-06-03</th>\n",
       "      <td>NaN</td>\n",
       "      <td>NaN</td>\n",
       "      <td>NaN</td>\n",
       "      <td>NaN</td>\n",
       "      <td>NaN</td>\n",
       "      <td>NaN</td>\n",
       "      <td>NaN</td>\n",
       "      <td>NaN</td>\n",
       "      <td>NaN</td>\n",
       "    </tr>\n",
       "    <tr>\n",
       "      <th>2023-06-04</th>\n",
       "      <td>NaN</td>\n",
       "      <td>NaN</td>\n",
       "      <td>NaN</td>\n",
       "      <td>NaN</td>\n",
       "      <td>NaN</td>\n",
       "      <td>NaN</td>\n",
       "      <td>NaN</td>\n",
       "      <td>NaN</td>\n",
       "      <td>NaN</td>\n",
       "    </tr>\n",
       "    <tr>\n",
       "      <th>...</th>\n",
       "      <td>...</td>\n",
       "      <td>...</td>\n",
       "      <td>...</td>\n",
       "      <td>...</td>\n",
       "      <td>...</td>\n",
       "      <td>...</td>\n",
       "      <td>...</td>\n",
       "      <td>...</td>\n",
       "      <td>...</td>\n",
       "    </tr>\n",
       "    <tr>\n",
       "      <th>2024-05-29</th>\n",
       "      <td>NaN</td>\n",
       "      <td>NaN</td>\n",
       "      <td>NaN</td>\n",
       "      <td>NaN</td>\n",
       "      <td>NaN</td>\n",
       "      <td>NaN</td>\n",
       "      <td>NaN</td>\n",
       "      <td>NaN</td>\n",
       "      <td>NaN</td>\n",
       "    </tr>\n",
       "    <tr>\n",
       "      <th>2024-05-30</th>\n",
       "      <td>NaN</td>\n",
       "      <td>NaN</td>\n",
       "      <td>NaN</td>\n",
       "      <td>NaN</td>\n",
       "      <td>NaN</td>\n",
       "      <td>NaN</td>\n",
       "      <td>NaN</td>\n",
       "      <td>NaN</td>\n",
       "      <td>NaN</td>\n",
       "    </tr>\n",
       "    <tr>\n",
       "      <th>2024-05-31</th>\n",
       "      <td>NaN</td>\n",
       "      <td>NaN</td>\n",
       "      <td>NaN</td>\n",
       "      <td>NaN</td>\n",
       "      <td>NaN</td>\n",
       "      <td>NaN</td>\n",
       "      <td>NaN</td>\n",
       "      <td>NaN</td>\n",
       "      <td>NaN</td>\n",
       "    </tr>\n",
       "    <tr>\n",
       "      <th>2024-06-01</th>\n",
       "      <td>NaN</td>\n",
       "      <td>NaN</td>\n",
       "      <td>NaN</td>\n",
       "      <td>NaN</td>\n",
       "      <td>NaN</td>\n",
       "      <td>NaN</td>\n",
       "      <td>NaN</td>\n",
       "      <td>NaN</td>\n",
       "      <td>NaN</td>\n",
       "    </tr>\n",
       "    <tr>\n",
       "      <th>2024-06-02</th>\n",
       "      <td>NaN</td>\n",
       "      <td>NaN</td>\n",
       "      <td>NaN</td>\n",
       "      <td>NaN</td>\n",
       "      <td>NaN</td>\n",
       "      <td>NaN</td>\n",
       "      <td>NaN</td>\n",
       "      <td>NaN</td>\n",
       "      <td>NaN</td>\n",
       "    </tr>\n",
       "  </tbody>\n",
       "</table>\n",
       "<p>369 rows × 9 columns</p>\n",
       "</div>"
      ],
      "text/plain": [
       "           Open High  Low Close Adj Close Volume Log_Return Forcast_log  \\\n",
       "2023-05-31  NaN  NaN  NaN   NaN       NaN    NaN        NaN         NaN   \n",
       "2023-06-01  NaN  NaN  NaN   NaN       NaN    NaN        NaN         NaN   \n",
       "2023-06-02  NaN  NaN  NaN   NaN       NaN    NaN        NaN         NaN   \n",
       "2023-06-03  NaN  NaN  NaN   NaN       NaN    NaN        NaN         NaN   \n",
       "2023-06-04  NaN  NaN  NaN   NaN       NaN    NaN        NaN         NaN   \n",
       "...         ...  ...  ...   ...       ...    ...        ...         ...   \n",
       "2024-05-29  NaN  NaN  NaN   NaN       NaN    NaN        NaN         NaN   \n",
       "2024-05-30  NaN  NaN  NaN   NaN       NaN    NaN        NaN         NaN   \n",
       "2024-05-31  NaN  NaN  NaN   NaN       NaN    NaN        NaN         NaN   \n",
       "2024-06-01  NaN  NaN  NaN   NaN       NaN    NaN        NaN         NaN   \n",
       "2024-06-02  NaN  NaN  NaN   NaN       NaN    NaN        NaN         NaN   \n",
       "\n",
       "           Forcast_Price  \n",
       "2023-05-31           NaN  \n",
       "2023-06-01           NaN  \n",
       "2023-06-02           NaN  \n",
       "2023-06-03           NaN  \n",
       "2023-06-04           NaN  \n",
       "...                  ...  \n",
       "2024-05-29           NaN  \n",
       "2024-05-30           NaN  \n",
       "2024-05-31           NaN  \n",
       "2024-06-01           NaN  \n",
       "2024-06-02           NaN  \n",
       "\n",
       "[369 rows x 9 columns]"
      ]
     },
     "execution_count": 126,
     "metadata": {},
     "output_type": "execute_result"
    }
   ],
   "source": [
    "future_datest_df = pd.DataFrame(index=future_dates[1:], columns = df.columns)\n",
    "future_datest_df"
   ]
  },
  {
   "cell_type": "code",
   "execution_count": 127,
   "id": "2ba7ef1d",
   "metadata": {
    "pycharm": {
     "name": "#%%\n"
    }
   },
   "outputs": [
    {
     "data": {
      "text/html": [
       "<div>\n",
       "<style scoped>\n",
       "    .dataframe tbody tr th:only-of-type {\n",
       "        vertical-align: middle;\n",
       "    }\n",
       "\n",
       "    .dataframe tbody tr th {\n",
       "        vertical-align: top;\n",
       "    }\n",
       "\n",
       "    .dataframe thead th {\n",
       "        text-align: right;\n",
       "    }\n",
       "</style>\n",
       "<table border=\"1\" class=\"dataframe\">\n",
       "  <thead>\n",
       "    <tr style=\"text-align: right;\">\n",
       "      <th></th>\n",
       "      <th>Open</th>\n",
       "      <th>High</th>\n",
       "      <th>Low</th>\n",
       "      <th>Close</th>\n",
       "      <th>Adj Close</th>\n",
       "      <th>Volume</th>\n",
       "      <th>Log_Return</th>\n",
       "      <th>Forcast_log</th>\n",
       "      <th>Forcast_Price</th>\n",
       "    </tr>\n",
       "  </thead>\n",
       "  <tbody>\n",
       "    <tr>\n",
       "      <th>2016-06-24</th>\n",
       "      <td>50.299999</td>\n",
       "      <td>50.450001</td>\n",
       "      <td>46.700001</td>\n",
       "      <td>47.639999</td>\n",
       "      <td>47.639999</td>\n",
       "      <td>649446</td>\n",
       "      <td>-0.050548</td>\n",
       "      <td>0.000538</td>\n",
       "      <td>NaN</td>\n",
       "    </tr>\n",
       "    <tr>\n",
       "      <th>2016-06-27</th>\n",
       "      <td>47.810001</td>\n",
       "      <td>47.959999</td>\n",
       "      <td>45.830002</td>\n",
       "      <td>46.330002</td>\n",
       "      <td>46.330002</td>\n",
       "      <td>504613</td>\n",
       "      <td>-0.027883</td>\n",
       "      <td>0.000538</td>\n",
       "      <td>47.665643</td>\n",
       "    </tr>\n",
       "    <tr>\n",
       "      <th>2016-06-28</th>\n",
       "      <td>46.590000</td>\n",
       "      <td>48.180000</td>\n",
       "      <td>46.540001</td>\n",
       "      <td>47.849998</td>\n",
       "      <td>47.849998</td>\n",
       "      <td>498851</td>\n",
       "      <td>0.032281</td>\n",
       "      <td>0.000538</td>\n",
       "      <td>46.354941</td>\n",
       "    </tr>\n",
       "    <tr>\n",
       "      <th>2016-06-29</th>\n",
       "      <td>48.060001</td>\n",
       "      <td>50.000000</td>\n",
       "      <td>47.980000</td>\n",
       "      <td>49.880001</td>\n",
       "      <td>49.880001</td>\n",
       "      <td>511476</td>\n",
       "      <td>0.041549</td>\n",
       "      <td>0.000538</td>\n",
       "      <td>47.875756</td>\n",
       "    </tr>\n",
       "    <tr>\n",
       "      <th>2016-06-30</th>\n",
       "      <td>49.549999</td>\n",
       "      <td>49.619999</td>\n",
       "      <td>48.169998</td>\n",
       "      <td>48.330002</td>\n",
       "      <td>48.330002</td>\n",
       "      <td>508736</td>\n",
       "      <td>-0.031568</td>\n",
       "      <td>0.000538</td>\n",
       "      <td>49.906851</td>\n",
       "    </tr>\n",
       "    <tr>\n",
       "      <th>...</th>\n",
       "      <td>...</td>\n",
       "      <td>...</td>\n",
       "      <td>...</td>\n",
       "      <td>...</td>\n",
       "      <td>...</td>\n",
       "      <td>...</td>\n",
       "      <td>...</td>\n",
       "      <td>...</td>\n",
       "      <td>...</td>\n",
       "    </tr>\n",
       "    <tr>\n",
       "      <th>2024-05-29</th>\n",
       "      <td>NaN</td>\n",
       "      <td>NaN</td>\n",
       "      <td>NaN</td>\n",
       "      <td>NaN</td>\n",
       "      <td>NaN</td>\n",
       "      <td>NaN</td>\n",
       "      <td>NaN</td>\n",
       "      <td>NaN</td>\n",
       "      <td>NaN</td>\n",
       "    </tr>\n",
       "    <tr>\n",
       "      <th>2024-05-30</th>\n",
       "      <td>NaN</td>\n",
       "      <td>NaN</td>\n",
       "      <td>NaN</td>\n",
       "      <td>NaN</td>\n",
       "      <td>NaN</td>\n",
       "      <td>NaN</td>\n",
       "      <td>NaN</td>\n",
       "      <td>NaN</td>\n",
       "      <td>NaN</td>\n",
       "    </tr>\n",
       "    <tr>\n",
       "      <th>2024-05-31</th>\n",
       "      <td>NaN</td>\n",
       "      <td>NaN</td>\n",
       "      <td>NaN</td>\n",
       "      <td>NaN</td>\n",
       "      <td>NaN</td>\n",
       "      <td>NaN</td>\n",
       "      <td>NaN</td>\n",
       "      <td>NaN</td>\n",
       "      <td>NaN</td>\n",
       "    </tr>\n",
       "    <tr>\n",
       "      <th>2024-06-01</th>\n",
       "      <td>NaN</td>\n",
       "      <td>NaN</td>\n",
       "      <td>NaN</td>\n",
       "      <td>NaN</td>\n",
       "      <td>NaN</td>\n",
       "      <td>NaN</td>\n",
       "      <td>NaN</td>\n",
       "      <td>NaN</td>\n",
       "      <td>NaN</td>\n",
       "    </tr>\n",
       "    <tr>\n",
       "      <th>2024-06-02</th>\n",
       "      <td>NaN</td>\n",
       "      <td>NaN</td>\n",
       "      <td>NaN</td>\n",
       "      <td>NaN</td>\n",
       "      <td>NaN</td>\n",
       "      <td>NaN</td>\n",
       "      <td>NaN</td>\n",
       "      <td>NaN</td>\n",
       "      <td>NaN</td>\n",
       "    </tr>\n",
       "  </tbody>\n",
       "</table>\n",
       "<p>2109 rows × 9 columns</p>\n",
       "</div>"
      ],
      "text/plain": [
       "                 Open       High        Low      Close  Adj Close  Volume  \\\n",
       "2016-06-24  50.299999  50.450001  46.700001  47.639999  47.639999  649446   \n",
       "2016-06-27  47.810001  47.959999  45.830002  46.330002  46.330002  504613   \n",
       "2016-06-28  46.590000  48.180000  46.540001  47.849998  47.849998  498851   \n",
       "2016-06-29  48.060001  50.000000  47.980000  49.880001  49.880001  511476   \n",
       "2016-06-30  49.549999  49.619999  48.169998  48.330002  48.330002  508736   \n",
       "...               ...        ...        ...        ...        ...     ...   \n",
       "2024-05-29        NaN        NaN        NaN        NaN        NaN     NaN   \n",
       "2024-05-30        NaN        NaN        NaN        NaN        NaN     NaN   \n",
       "2024-05-31        NaN        NaN        NaN        NaN        NaN     NaN   \n",
       "2024-06-01        NaN        NaN        NaN        NaN        NaN     NaN   \n",
       "2024-06-02        NaN        NaN        NaN        NaN        NaN     NaN   \n",
       "\n",
       "            Log_Return  Forcast_log  Forcast_Price  \n",
       "2016-06-24   -0.050548     0.000538            NaN  \n",
       "2016-06-27   -0.027883     0.000538      47.665643  \n",
       "2016-06-28    0.032281     0.000538      46.354941  \n",
       "2016-06-29    0.041549     0.000538      47.875756  \n",
       "2016-06-30   -0.031568     0.000538      49.906851  \n",
       "...                ...          ...            ...  \n",
       "2024-05-29         NaN          NaN            NaN  \n",
       "2024-05-30         NaN          NaN            NaN  \n",
       "2024-05-31         NaN          NaN            NaN  \n",
       "2024-06-01         NaN          NaN            NaN  \n",
       "2024-06-02         NaN          NaN            NaN  \n",
       "\n",
       "[2109 rows x 9 columns]"
      ]
     },
     "execution_count": 127,
     "metadata": {},
     "output_type": "execute_result"
    }
   ],
   "source": [
    "future_df = pd.concat([df, future_datest_df])\n",
    "future_df"
   ]
  },
  {
   "cell_type": "code",
   "execution_count": 128,
   "id": "67156399",
   "metadata": {
    "jupyter": {
     "outputs_hidden": false
    },
    "pycharm": {
     "name": "#%%\n"
    }
   },
   "outputs": [
    {
     "name": "stdout",
     "output_type": "stream",
     "text": [
      "从'2022-12-31'到'2023-11-04'之间的天数是: 308\n"
     ]
    }
   ],
   "source": [
    "from datetime import datetime\n",
    "\n",
    "# 定义起始日期和结束日期\n",
    "start_date = datetime(2022, 12, 31)\n",
    "end_date = datetime(2023, 11, 4)\n",
    "\n",
    "# 计算日期差距\n",
    "days_between = (end_date - start_date).days\n",
    "\n",
    "# 打印结果\n",
    "print(\"从'2022-12-31'到'2023-11-04'之间的天数是:\", days_between)"
   ]
  },
  {
   "cell_type": "code",
   "execution_count": 129,
   "id": "cffc08e3-7ade-49d1-adaf-23728e802ad0",
   "metadata": {
    "pycharm": {
     "name": "#%%\n"
    }
   },
   "outputs": [],
   "source": [
    "from datetime import datetime, timedelta\n",
    "\n",
    "# 生成时间列表（只包含年月日）\n",
    "time_list = []\n",
    "current_date = start_date\n",
    "while current_date <= end_date:\n",
    "    time_list.append(current_date.strftime('%Y-%m-%d'))\n",
    "    current_date += timedelta(days=1)"
   ]
  },
  {
   "cell_type": "code",
   "execution_count": 130,
   "id": "5670f30f-2c0e-4c26-853a-b4d8462b1dbf",
   "metadata": {
    "pycharm": {
     "name": "#%%\n"
    }
   },
   "outputs": [
    {
     "data": {
      "text/plain": [
       "2022-12-31    0.002454\n",
       "2023-01-01   -0.000985\n",
       "2023-01-02    0.004547\n",
       "2023-01-03    0.000317\n",
       "2023-01-04   -0.002150\n",
       "                ...   \n",
       "2023-10-31    0.000538\n",
       "2023-11-01    0.000538\n",
       "2023-11-02    0.000538\n",
       "2023-11-03    0.000538\n",
       "2023-11-04    0.000538\n",
       "Name: Forcast_log, Length: 309, dtype: float64"
      ]
     },
     "execution_count": 130,
     "metadata": {},
     "output_type": "execute_result"
    }
   ],
   "source": [
    "# 使用forecast方法进行未来的单一点预测，指定预测步数（steps）\n",
    "forecasted_value = results.forecast(steps=309)\n",
    "# 将 forecasted_value 的索引替换为 time_list\n",
    "forecasted_value.index = time_list\n",
    "forecasted_value.index = pd.to_datetime(forecasted_value.index)\n",
    "forecasted_value.rename('Forcast_log', inplace=True)\n",
    "forecasted_value"
   ]
  },
  {
   "cell_type": "code",
   "execution_count": 131,
   "id": "187c94a6-ebcb-4ddf-aa3c-8ad29d22787a",
   "metadata": {
    "pycharm": {
     "name": "#%%\n"
    }
   },
   "outputs": [
    {
     "data": {
      "text/html": [
       "<div>\n",
       "<style scoped>\n",
       "    .dataframe tbody tr th:only-of-type {\n",
       "        vertical-align: middle;\n",
       "    }\n",
       "\n",
       "    .dataframe tbody tr th {\n",
       "        vertical-align: top;\n",
       "    }\n",
       "\n",
       "    .dataframe thead th {\n",
       "        text-align: right;\n",
       "    }\n",
       "</style>\n",
       "<table border=\"1\" class=\"dataframe\">\n",
       "  <thead>\n",
       "    <tr style=\"text-align: right;\">\n",
       "      <th></th>\n",
       "      <th>Open</th>\n",
       "      <th>High</th>\n",
       "      <th>Low</th>\n",
       "      <th>Close</th>\n",
       "      <th>Adj Close</th>\n",
       "      <th>Volume</th>\n",
       "      <th>Log_Return</th>\n",
       "      <th>Forcast_log</th>\n",
       "      <th>Forcast_Price</th>\n",
       "    </tr>\n",
       "  </thead>\n",
       "  <tbody>\n",
       "    <tr>\n",
       "      <th>2016-06-24</th>\n",
       "      <td>50.299999</td>\n",
       "      <td>50.450001</td>\n",
       "      <td>46.700001</td>\n",
       "      <td>47.639999</td>\n",
       "      <td>47.639999</td>\n",
       "      <td>649446</td>\n",
       "      <td>-0.050548</td>\n",
       "      <td>0.000538</td>\n",
       "      <td>NaN</td>\n",
       "    </tr>\n",
       "    <tr>\n",
       "      <th>2016-06-27</th>\n",
       "      <td>47.810001</td>\n",
       "      <td>47.959999</td>\n",
       "      <td>45.830002</td>\n",
       "      <td>46.330002</td>\n",
       "      <td>46.330002</td>\n",
       "      <td>504613</td>\n",
       "      <td>-0.027883</td>\n",
       "      <td>0.000538</td>\n",
       "      <td>47.665643</td>\n",
       "    </tr>\n",
       "    <tr>\n",
       "      <th>2016-06-28</th>\n",
       "      <td>46.590000</td>\n",
       "      <td>48.180000</td>\n",
       "      <td>46.540001</td>\n",
       "      <td>47.849998</td>\n",
       "      <td>47.849998</td>\n",
       "      <td>498851</td>\n",
       "      <td>0.032281</td>\n",
       "      <td>0.000538</td>\n",
       "      <td>46.354941</td>\n",
       "    </tr>\n",
       "    <tr>\n",
       "      <th>2016-06-29</th>\n",
       "      <td>48.060001</td>\n",
       "      <td>50.000000</td>\n",
       "      <td>47.980000</td>\n",
       "      <td>49.880001</td>\n",
       "      <td>49.880001</td>\n",
       "      <td>511476</td>\n",
       "      <td>0.041549</td>\n",
       "      <td>0.000538</td>\n",
       "      <td>47.875756</td>\n",
       "    </tr>\n",
       "    <tr>\n",
       "      <th>2016-06-30</th>\n",
       "      <td>49.549999</td>\n",
       "      <td>49.619999</td>\n",
       "      <td>48.169998</td>\n",
       "      <td>48.330002</td>\n",
       "      <td>48.330002</td>\n",
       "      <td>508736</td>\n",
       "      <td>-0.031568</td>\n",
       "      <td>0.000538</td>\n",
       "      <td>49.906851</td>\n",
       "    </tr>\n",
       "    <tr>\n",
       "      <th>...</th>\n",
       "      <td>...</td>\n",
       "      <td>...</td>\n",
       "      <td>...</td>\n",
       "      <td>...</td>\n",
       "      <td>...</td>\n",
       "      <td>...</td>\n",
       "      <td>...</td>\n",
       "      <td>...</td>\n",
       "      <td>...</td>\n",
       "    </tr>\n",
       "    <tr>\n",
       "      <th>2024-05-29</th>\n",
       "      <td>NaN</td>\n",
       "      <td>NaN</td>\n",
       "      <td>NaN</td>\n",
       "      <td>NaN</td>\n",
       "      <td>NaN</td>\n",
       "      <td>NaN</td>\n",
       "      <td>NaN</td>\n",
       "      <td>NaN</td>\n",
       "      <td>NaN</td>\n",
       "    </tr>\n",
       "    <tr>\n",
       "      <th>2024-05-30</th>\n",
       "      <td>NaN</td>\n",
       "      <td>NaN</td>\n",
       "      <td>NaN</td>\n",
       "      <td>NaN</td>\n",
       "      <td>NaN</td>\n",
       "      <td>NaN</td>\n",
       "      <td>NaN</td>\n",
       "      <td>NaN</td>\n",
       "      <td>NaN</td>\n",
       "    </tr>\n",
       "    <tr>\n",
       "      <th>2024-05-31</th>\n",
       "      <td>NaN</td>\n",
       "      <td>NaN</td>\n",
       "      <td>NaN</td>\n",
       "      <td>NaN</td>\n",
       "      <td>NaN</td>\n",
       "      <td>NaN</td>\n",
       "      <td>NaN</td>\n",
       "      <td>NaN</td>\n",
       "      <td>NaN</td>\n",
       "    </tr>\n",
       "    <tr>\n",
       "      <th>2024-06-01</th>\n",
       "      <td>NaN</td>\n",
       "      <td>NaN</td>\n",
       "      <td>NaN</td>\n",
       "      <td>NaN</td>\n",
       "      <td>NaN</td>\n",
       "      <td>NaN</td>\n",
       "      <td>NaN</td>\n",
       "      <td>NaN</td>\n",
       "      <td>NaN</td>\n",
       "    </tr>\n",
       "    <tr>\n",
       "      <th>2024-06-02</th>\n",
       "      <td>NaN</td>\n",
       "      <td>NaN</td>\n",
       "      <td>NaN</td>\n",
       "      <td>NaN</td>\n",
       "      <td>NaN</td>\n",
       "      <td>NaN</td>\n",
       "      <td>NaN</td>\n",
       "      <td>NaN</td>\n",
       "      <td>NaN</td>\n",
       "    </tr>\n",
       "  </tbody>\n",
       "</table>\n",
       "<p>2109 rows × 9 columns</p>\n",
       "</div>"
      ],
      "text/plain": [
       "                 Open       High        Low      Close  Adj Close  Volume  \\\n",
       "2016-06-24  50.299999  50.450001  46.700001  47.639999  47.639999  649446   \n",
       "2016-06-27  47.810001  47.959999  45.830002  46.330002  46.330002  504613   \n",
       "2016-06-28  46.590000  48.180000  46.540001  47.849998  47.849998  498851   \n",
       "2016-06-29  48.060001  50.000000  47.980000  49.880001  49.880001  511476   \n",
       "2016-06-30  49.549999  49.619999  48.169998  48.330002  48.330002  508736   \n",
       "...               ...        ...        ...        ...        ...     ...   \n",
       "2024-05-29        NaN        NaN        NaN        NaN        NaN     NaN   \n",
       "2024-05-30        NaN        NaN        NaN        NaN        NaN     NaN   \n",
       "2024-05-31        NaN        NaN        NaN        NaN        NaN     NaN   \n",
       "2024-06-01        NaN        NaN        NaN        NaN        NaN     NaN   \n",
       "2024-06-02        NaN        NaN        NaN        NaN        NaN     NaN   \n",
       "\n",
       "            Log_Return  Forcast_log  Forcast_Price  \n",
       "2016-06-24   -0.050548     0.000538            NaN  \n",
       "2016-06-27   -0.027883     0.000538      47.665643  \n",
       "2016-06-28    0.032281     0.000538      46.354941  \n",
       "2016-06-29    0.041549     0.000538      47.875756  \n",
       "2016-06-30   -0.031568     0.000538      49.906851  \n",
       "...                ...          ...            ...  \n",
       "2024-05-29         NaN          NaN            NaN  \n",
       "2024-05-30         NaN          NaN            NaN  \n",
       "2024-05-31         NaN          NaN            NaN  \n",
       "2024-06-01         NaN          NaN            NaN  \n",
       "2024-06-02         NaN          NaN            NaN  \n",
       "\n",
       "[2109 rows x 9 columns]"
      ]
     },
     "execution_count": 131,
     "metadata": {},
     "output_type": "execute_result"
    }
   ],
   "source": [
    "# 使用 combine_first 更新 future_df 中的 Forcast_log 列\n",
    "future_df['Forcast_log'] = future_df['Forcast_log'].combine_first(forecasted_value)\n",
    "future_df"
   ]
  },
  {
   "cell_type": "code",
   "execution_count": 135,
   "id": "0a5582e5-8627-4c96-a3db-a8e2de56b5b9",
   "metadata": {
    "pycharm": {
     "name": "#%%\n"
    }
   },
   "outputs": [],
   "source": [
    "future_df['Forcast_Price'].fillna(0, inplace=True)\n",
    "# 找到2023年5月30日的索引\n",
    "start_idx = future_df.index.get_loc('2023-05-30')\n",
    "\n",
    "# 从2023年5月31日开始，计算Forcast_Price\n",
    "for i in range(start_idx+1, len(future_df)):\n",
    "    future_df['Forcast_Price'].iloc[i] = future_df['Forcast_Price'].iloc[i-1] * np.exp(future_df['Forcast_log'].iloc[i])"
   ]
  },
  {
   "cell_type": "code",
   "execution_count": 136,
   "id": "f4be6021-4311-43a5-beb8-12bdbfaa5173",
   "metadata": {
    "pycharm": {
     "name": "#%%\n"
    }
   },
   "outputs": [
    {
     "data": {
      "text/html": [
       "<div>\n",
       "<style scoped>\n",
       "    .dataframe tbody tr th:only-of-type {\n",
       "        vertical-align: middle;\n",
       "    }\n",
       "\n",
       "    .dataframe tbody tr th {\n",
       "        vertical-align: top;\n",
       "    }\n",
       "\n",
       "    .dataframe thead th {\n",
       "        text-align: right;\n",
       "    }\n",
       "</style>\n",
       "<table border=\"1\" class=\"dataframe\">\n",
       "  <thead>\n",
       "    <tr style=\"text-align: right;\">\n",
       "      <th></th>\n",
       "      <th>Open</th>\n",
       "      <th>High</th>\n",
       "      <th>Low</th>\n",
       "      <th>Close</th>\n",
       "      <th>Adj Close</th>\n",
       "      <th>Volume</th>\n",
       "      <th>Log_Return</th>\n",
       "      <th>Forcast_log</th>\n",
       "      <th>Forcast_Price</th>\n",
       "    </tr>\n",
       "  </thead>\n",
       "  <tbody>\n",
       "    <tr>\n",
       "      <th>2022-05-31</th>\n",
       "      <td>114.959999</td>\n",
       "      <td>119.980003</td>\n",
       "      <td>114.150002</td>\n",
       "      <td>114.669998</td>\n",
       "      <td>114.669998</td>\n",
       "      <td>440796</td>\n",
       "      <td>-0.003482</td>\n",
       "      <td>0.000538</td>\n",
       "      <td>115.131940</td>\n",
       "    </tr>\n",
       "    <tr>\n",
       "      <th>2022-06-01</th>\n",
       "      <td>115.400002</td>\n",
       "      <td>117.870003</td>\n",
       "      <td>114.580002</td>\n",
       "      <td>115.260002</td>\n",
       "      <td>115.260002</td>\n",
       "      <td>290530</td>\n",
       "      <td>0.005132</td>\n",
       "      <td>0.000538</td>\n",
       "      <td>114.731724</td>\n",
       "    </tr>\n",
       "    <tr>\n",
       "      <th>2022-06-02</th>\n",
       "      <td>114.800003</td>\n",
       "      <td>117.769997</td>\n",
       "      <td>111.199997</td>\n",
       "      <td>116.870003</td>\n",
       "      <td>116.870003</td>\n",
       "      <td>327600</td>\n",
       "      <td>0.013872</td>\n",
       "      <td>0.000538</td>\n",
       "      <td>115.322045</td>\n",
       "    </tr>\n",
       "    <tr>\n",
       "      <th>2022-06-03</th>\n",
       "      <td>117.550003</td>\n",
       "      <td>120.459999</td>\n",
       "      <td>115.230003</td>\n",
       "      <td>118.870003</td>\n",
       "      <td>118.870003</td>\n",
       "      <td>240831</td>\n",
       "      <td>0.016968</td>\n",
       "      <td>0.000538</td>\n",
       "      <td>116.932912</td>\n",
       "    </tr>\n",
       "    <tr>\n",
       "      <th>2022-06-06</th>\n",
       "      <td>120.820000</td>\n",
       "      <td>120.989998</td>\n",
       "      <td>117.629997</td>\n",
       "      <td>118.500000</td>\n",
       "      <td>118.500000</td>\n",
       "      <td>246825</td>\n",
       "      <td>-0.003118</td>\n",
       "      <td>0.000538</td>\n",
       "      <td>118.933989</td>\n",
       "    </tr>\n",
       "    <tr>\n",
       "      <th>...</th>\n",
       "      <td>...</td>\n",
       "      <td>...</td>\n",
       "      <td>...</td>\n",
       "      <td>...</td>\n",
       "      <td>...</td>\n",
       "      <td>...</td>\n",
       "      <td>...</td>\n",
       "      <td>...</td>\n",
       "      <td>...</td>\n",
       "    </tr>\n",
       "    <tr>\n",
       "      <th>2023-06-30</th>\n",
       "      <td>NaN</td>\n",
       "      <td>NaN</td>\n",
       "      <td>NaN</td>\n",
       "      <td>NaN</td>\n",
       "      <td>NaN</td>\n",
       "      <td>NaN</td>\n",
       "      <td>NaN</td>\n",
       "      <td>0.000538</td>\n",
       "      <td>73.932253</td>\n",
       "    </tr>\n",
       "    <tr>\n",
       "      <th>2023-07-01</th>\n",
       "      <td>NaN</td>\n",
       "      <td>NaN</td>\n",
       "      <td>NaN</td>\n",
       "      <td>NaN</td>\n",
       "      <td>NaN</td>\n",
       "      <td>NaN</td>\n",
       "      <td>NaN</td>\n",
       "      <td>0.000538</td>\n",
       "      <td>73.972050</td>\n",
       "    </tr>\n",
       "    <tr>\n",
       "      <th>2023-07-02</th>\n",
       "      <td>NaN</td>\n",
       "      <td>NaN</td>\n",
       "      <td>NaN</td>\n",
       "      <td>NaN</td>\n",
       "      <td>NaN</td>\n",
       "      <td>NaN</td>\n",
       "      <td>NaN</td>\n",
       "      <td>0.000538</td>\n",
       "      <td>74.011868</td>\n",
       "    </tr>\n",
       "    <tr>\n",
       "      <th>2023-07-03</th>\n",
       "      <td>NaN</td>\n",
       "      <td>NaN</td>\n",
       "      <td>NaN</td>\n",
       "      <td>NaN</td>\n",
       "      <td>NaN</td>\n",
       "      <td>NaN</td>\n",
       "      <td>NaN</td>\n",
       "      <td>0.000538</td>\n",
       "      <td>74.051708</td>\n",
       "    </tr>\n",
       "    <tr>\n",
       "      <th>2023-07-04</th>\n",
       "      <td>NaN</td>\n",
       "      <td>NaN</td>\n",
       "      <td>NaN</td>\n",
       "      <td>NaN</td>\n",
       "      <td>NaN</td>\n",
       "      <td>NaN</td>\n",
       "      <td>NaN</td>\n",
       "      <td>0.000538</td>\n",
       "      <td>74.091569</td>\n",
       "    </tr>\n",
       "  </tbody>\n",
       "</table>\n",
       "<p>286 rows × 9 columns</p>\n",
       "</div>"
      ],
      "text/plain": [
       "                  Open        High         Low       Close   Adj Close  \\\n",
       "2022-05-31  114.959999  119.980003  114.150002  114.669998  114.669998   \n",
       "2022-06-01  115.400002  117.870003  114.580002  115.260002  115.260002   \n",
       "2022-06-02  114.800003  117.769997  111.199997  116.870003  116.870003   \n",
       "2022-06-03  117.550003  120.459999  115.230003  118.870003  118.870003   \n",
       "2022-06-06  120.820000  120.989998  117.629997  118.500000  118.500000   \n",
       "...                ...         ...         ...         ...         ...   \n",
       "2023-06-30         NaN         NaN         NaN         NaN         NaN   \n",
       "2023-07-01         NaN         NaN         NaN         NaN         NaN   \n",
       "2023-07-02         NaN         NaN         NaN         NaN         NaN   \n",
       "2023-07-03         NaN         NaN         NaN         NaN         NaN   \n",
       "2023-07-04         NaN         NaN         NaN         NaN         NaN   \n",
       "\n",
       "            Volume  Log_Return  Forcast_log  Forcast_Price  \n",
       "2022-05-31  440796   -0.003482     0.000538     115.131940  \n",
       "2022-06-01  290530    0.005132     0.000538     114.731724  \n",
       "2022-06-02  327600    0.013872     0.000538     115.322045  \n",
       "2022-06-03  240831    0.016968     0.000538     116.932912  \n",
       "2022-06-06  246825   -0.003118     0.000538     118.933989  \n",
       "...            ...         ...          ...            ...  \n",
       "2023-06-30     NaN         NaN     0.000538      73.932253  \n",
       "2023-07-01     NaN         NaN     0.000538      73.972050  \n",
       "2023-07-02     NaN         NaN     0.000538      74.011868  \n",
       "2023-07-03     NaN         NaN     0.000538      74.051708  \n",
       "2023-07-04     NaN         NaN     0.000538      74.091569  \n",
       "\n",
       "[286 rows x 9 columns]"
      ]
     },
     "execution_count": 136,
     "metadata": {},
     "output_type": "execute_result"
    }
   ],
   "source": [
    "# 示例日期范围\n",
    "start_date = datetime(2022, 5, 31)\n",
    "end_date = datetime(2023, 7, 4)\n",
    "\n",
    "# 使用切片操作选择在指定日期范围内的行\n",
    "selected_data = future_df[start_date:end_date]\n",
    "\n",
    "selected_data"
   ]
  },
  {
   "cell_type": "code",
   "execution_count": 137,
   "id": "794bd83d-c0bc-427b-9256-30643ce832dc",
   "metadata": {
    "pycharm": {
     "name": "#%%\n"
    }
   },
   "outputs": [
    {
     "data": {
      "text/html": [
       "<div>\n",
       "<style scoped>\n",
       "    .dataframe tbody tr th:only-of-type {\n",
       "        vertical-align: middle;\n",
       "    }\n",
       "\n",
       "    .dataframe tbody tr th {\n",
       "        vertical-align: top;\n",
       "    }\n",
       "\n",
       "    .dataframe thead th {\n",
       "        text-align: right;\n",
       "    }\n",
       "</style>\n",
       "<table border=\"1\" class=\"dataframe\">\n",
       "  <thead>\n",
       "    <tr style=\"text-align: right;\">\n",
       "      <th></th>\n",
       "      <th>Open</th>\n",
       "      <th>High</th>\n",
       "      <th>Low</th>\n",
       "      <th>Close</th>\n",
       "      <th>Adj Close</th>\n",
       "      <th>Volume</th>\n",
       "      <th>Log_Return</th>\n",
       "      <th>Forcast_log</th>\n",
       "      <th>Forcast_Price</th>\n",
       "    </tr>\n",
       "  </thead>\n",
       "  <tbody>\n",
       "    <tr>\n",
       "      <th>2016-06-24</th>\n",
       "      <td>50.299999</td>\n",
       "      <td>50.450001</td>\n",
       "      <td>46.700001</td>\n",
       "      <td>47.639999</td>\n",
       "      <td>47.639999</td>\n",
       "      <td>649446</td>\n",
       "      <td>-0.050548</td>\n",
       "      <td>0.000538</td>\n",
       "      <td>0.000000</td>\n",
       "    </tr>\n",
       "    <tr>\n",
       "      <th>2016-06-27</th>\n",
       "      <td>47.810001</td>\n",
       "      <td>47.959999</td>\n",
       "      <td>45.830002</td>\n",
       "      <td>46.330002</td>\n",
       "      <td>46.330002</td>\n",
       "      <td>504613</td>\n",
       "      <td>-0.027883</td>\n",
       "      <td>0.000538</td>\n",
       "      <td>47.665643</td>\n",
       "    </tr>\n",
       "    <tr>\n",
       "      <th>2016-06-28</th>\n",
       "      <td>46.590000</td>\n",
       "      <td>48.180000</td>\n",
       "      <td>46.540001</td>\n",
       "      <td>47.849998</td>\n",
       "      <td>47.849998</td>\n",
       "      <td>498851</td>\n",
       "      <td>0.032281</td>\n",
       "      <td>0.000538</td>\n",
       "      <td>46.354941</td>\n",
       "    </tr>\n",
       "    <tr>\n",
       "      <th>2016-06-29</th>\n",
       "      <td>48.060001</td>\n",
       "      <td>50.000000</td>\n",
       "      <td>47.980000</td>\n",
       "      <td>49.880001</td>\n",
       "      <td>49.880001</td>\n",
       "      <td>511476</td>\n",
       "      <td>0.041549</td>\n",
       "      <td>0.000538</td>\n",
       "      <td>47.875756</td>\n",
       "    </tr>\n",
       "    <tr>\n",
       "      <th>2016-06-30</th>\n",
       "      <td>49.549999</td>\n",
       "      <td>49.619999</td>\n",
       "      <td>48.169998</td>\n",
       "      <td>48.330002</td>\n",
       "      <td>48.330002</td>\n",
       "      <td>508736</td>\n",
       "      <td>-0.031568</td>\n",
       "      <td>0.000538</td>\n",
       "      <td>49.906851</td>\n",
       "    </tr>\n",
       "    <tr>\n",
       "      <th>...</th>\n",
       "      <td>...</td>\n",
       "      <td>...</td>\n",
       "      <td>...</td>\n",
       "      <td>...</td>\n",
       "      <td>...</td>\n",
       "      <td>...</td>\n",
       "      <td>...</td>\n",
       "      <td>...</td>\n",
       "      <td>...</td>\n",
       "    </tr>\n",
       "    <tr>\n",
       "      <th>2024-05-29</th>\n",
       "      <td>NaN</td>\n",
       "      <td>NaN</td>\n",
       "      <td>NaN</td>\n",
       "      <td>NaN</td>\n",
       "      <td>NaN</td>\n",
       "      <td>NaN</td>\n",
       "      <td>NaN</td>\n",
       "      <td>NaN</td>\n",
       "      <td>NaN</td>\n",
       "    </tr>\n",
       "    <tr>\n",
       "      <th>2024-05-30</th>\n",
       "      <td>NaN</td>\n",
       "      <td>NaN</td>\n",
       "      <td>NaN</td>\n",
       "      <td>NaN</td>\n",
       "      <td>NaN</td>\n",
       "      <td>NaN</td>\n",
       "      <td>NaN</td>\n",
       "      <td>NaN</td>\n",
       "      <td>NaN</td>\n",
       "    </tr>\n",
       "    <tr>\n",
       "      <th>2024-05-31</th>\n",
       "      <td>NaN</td>\n",
       "      <td>NaN</td>\n",
       "      <td>NaN</td>\n",
       "      <td>NaN</td>\n",
       "      <td>NaN</td>\n",
       "      <td>NaN</td>\n",
       "      <td>NaN</td>\n",
       "      <td>NaN</td>\n",
       "      <td>NaN</td>\n",
       "    </tr>\n",
       "    <tr>\n",
       "      <th>2024-06-01</th>\n",
       "      <td>NaN</td>\n",
       "      <td>NaN</td>\n",
       "      <td>NaN</td>\n",
       "      <td>NaN</td>\n",
       "      <td>NaN</td>\n",
       "      <td>NaN</td>\n",
       "      <td>NaN</td>\n",
       "      <td>NaN</td>\n",
       "      <td>NaN</td>\n",
       "    </tr>\n",
       "    <tr>\n",
       "      <th>2024-06-02</th>\n",
       "      <td>NaN</td>\n",
       "      <td>NaN</td>\n",
       "      <td>NaN</td>\n",
       "      <td>NaN</td>\n",
       "      <td>NaN</td>\n",
       "      <td>NaN</td>\n",
       "      <td>NaN</td>\n",
       "      <td>NaN</td>\n",
       "      <td>NaN</td>\n",
       "    </tr>\n",
       "  </tbody>\n",
       "</table>\n",
       "<p>2109 rows × 9 columns</p>\n",
       "</div>"
      ],
      "text/plain": [
       "                 Open       High        Low      Close  Adj Close  Volume  \\\n",
       "2016-06-24  50.299999  50.450001  46.700001  47.639999  47.639999  649446   \n",
       "2016-06-27  47.810001  47.959999  45.830002  46.330002  46.330002  504613   \n",
       "2016-06-28  46.590000  48.180000  46.540001  47.849998  47.849998  498851   \n",
       "2016-06-29  48.060001  50.000000  47.980000  49.880001  49.880001  511476   \n",
       "2016-06-30  49.549999  49.619999  48.169998  48.330002  48.330002  508736   \n",
       "...               ...        ...        ...        ...        ...     ...   \n",
       "2024-05-29        NaN        NaN        NaN        NaN        NaN     NaN   \n",
       "2024-05-30        NaN        NaN        NaN        NaN        NaN     NaN   \n",
       "2024-05-31        NaN        NaN        NaN        NaN        NaN     NaN   \n",
       "2024-06-01        NaN        NaN        NaN        NaN        NaN     NaN   \n",
       "2024-06-02        NaN        NaN        NaN        NaN        NaN     NaN   \n",
       "\n",
       "            Log_Return  Forcast_log  Forcast_Price  \n",
       "2016-06-24   -0.050548     0.000538       0.000000  \n",
       "2016-06-27   -0.027883     0.000538      47.665643  \n",
       "2016-06-28    0.032281     0.000538      46.354941  \n",
       "2016-06-29    0.041549     0.000538      47.875756  \n",
       "2016-06-30   -0.031568     0.000538      49.906851  \n",
       "...                ...          ...            ...  \n",
       "2024-05-29         NaN          NaN            NaN  \n",
       "2024-05-30         NaN          NaN            NaN  \n",
       "2024-05-31         NaN          NaN            NaN  \n",
       "2024-06-01         NaN          NaN            NaN  \n",
       "2024-06-02         NaN          NaN            NaN  \n",
       "\n",
       "[2109 rows x 9 columns]"
      ]
     },
     "execution_count": 137,
     "metadata": {},
     "output_type": "execute_result"
    }
   ],
   "source": [
    "future_df"
   ]
  },
  {
   "cell_type": "code",
   "execution_count": 138,
   "id": "80e60c18",
   "metadata": {
    "pycharm": {
     "name": "#%%\n"
    }
   },
   "outputs": [
    {
     "data": {
      "image/png": "[encoded data removed]",
      "text/plain": [
       "<Figure size 1008x504 with 1 Axes>"
      ]
     },
     "metadata": {
      "needs_background": "light"
     },
     "output_type": "display_data"
    }
   ],
   "source": [
    "# 选择需要的数据范围\n",
    "df_close_forecast = future_df.loc['2016-06-24':'2023-05-30', ['Close', 'Forcast_Price']]\n",
    "df_forecast_only = future_df.loc['2022-12-31':'2023-11-04', 'Forcast_Price']\n",
    "\n",
    "# 绘制图形\n",
    "plt.figure(figsize=(14, 7))\n",
    "\n",
    "# 从2016-06-24到2023-05-30的Close列\n",
    "plt.plot(df_close_forecast.index, df_close_forecast['Close'], color='blue', label='Close')\n",
    "\n",
    "# 从2016-06-24到2023-05-30的Forcast_Price列\n",
    "plt.plot(df_close_forecast.index, df_close_forecast['Forcast_Price'], color='green', label='Forcast_Price (2016-06-24 to 2023-05-30)')\n",
    "\n",
    "# 从2022-12-31到2023-11-04的Forcast_Price列\n",
    "plt.plot(df_forecast_only.index, df_forecast_only, color='red', label='Forcast_Price (2022-12-31 to 2023-11-04)', linestyle='--')\n",
    "\n",
    "# 其他绘图设置\n",
    "plt.title('Close vs Forcast_Price')\n",
    "plt.xlabel('Date')\n",
    "plt.ylabel('Price')\n",
    "plt.legend()\n",
    "plt.grid(True)\n",
    "plt.tight_layout()\n",
    "plt.show()"
   ]
  },
  {
   "cell_type": "markdown",
   "id": "bb436990-c924-4ee4-9a4a-6fe4a51560ee",
   "metadata": {
    "pycharm": {
     "name": "#%% md\n"
    }
   },
   "source": [
    "## 预测的结果可能就一般了 或许可以直接预测close"
   ]
  },
  {
   "cell_type": "code",
   "execution_count": 139,
   "id": "3346770d",
   "metadata": {
    "pycharm": {
     "name": "#%%\n"
    }
   },
   "outputs": [
    {
     "data": {
      "text/html": [
       "<div>\n",
       "<style scoped>\n",
       "    .dataframe tbody tr th:only-of-type {\n",
       "        vertical-align: middle;\n",
       "    }\n",
       "\n",
       "    .dataframe tbody tr th {\n",
       "        vertical-align: top;\n",
       "    }\n",
       "\n",
       "    .dataframe thead th {\n",
       "        text-align: right;\n",
       "    }\n",
       "</style>\n",
       "<table border=\"1\" class=\"dataframe\">\n",
       "  <thead>\n",
       "    <tr style=\"text-align: right;\">\n",
       "      <th></th>\n",
       "      <th>Open</th>\n",
       "      <th>High</th>\n",
       "      <th>Low</th>\n",
       "      <th>Close</th>\n",
       "      <th>Adj Close</th>\n",
       "      <th>Log_Return</th>\n",
       "      <th>Forcast_log</th>\n",
       "      <th>Forcast_Price</th>\n",
       "    </tr>\n",
       "  </thead>\n",
       "  <tbody>\n",
       "    <tr>\n",
       "      <th>count</th>\n",
       "      <td>1740.000000</td>\n",
       "      <td>1740.000000</td>\n",
       "      <td>1740.000000</td>\n",
       "      <td>1740.000000</td>\n",
       "      <td>1740.000000</td>\n",
       "      <td>1740.000000</td>\n",
       "      <td>1.898000e+03</td>\n",
       "      <td>1898.000000</td>\n",
       "    </tr>\n",
       "    <tr>\n",
       "      <th>mean</th>\n",
       "      <td>62.145356</td>\n",
       "      <td>63.218460</td>\n",
       "      <td>60.998557</td>\n",
       "      <td>62.136155</td>\n",
       "      <td>62.136155</td>\n",
       "      <td>0.000533</td>\n",
       "      <td>5.381425e-04</td>\n",
       "      <td>63.276825</td>\n",
       "    </tr>\n",
       "    <tr>\n",
       "      <th>std</th>\n",
       "      <td>18.382076</td>\n",
       "      <td>18.765852</td>\n",
       "      <td>17.934130</td>\n",
       "      <td>18.354693</td>\n",
       "      <td>18.354693</td>\n",
       "      <td>0.030672</td>\n",
       "      <td>4.311588e-21</td>\n",
       "      <td>18.054486</td>\n",
       "    </tr>\n",
       "    <tr>\n",
       "      <th>min</th>\n",
       "      <td>12.960000</td>\n",
       "      <td>13.690000</td>\n",
       "      <td>10.070000</td>\n",
       "      <td>12.340000</td>\n",
       "      <td>12.340000</td>\n",
       "      <td>-0.282206</td>\n",
       "      <td>5.381425e-04</td>\n",
       "      <td>0.000000</td>\n",
       "    </tr>\n",
       "    <tr>\n",
       "      <th>25%</th>\n",
       "      <td>49.640001</td>\n",
       "      <td>50.417499</td>\n",
       "      <td>49.024999</td>\n",
       "      <td>49.697499</td>\n",
       "      <td>49.697499</td>\n",
       "      <td>-0.012144</td>\n",
       "      <td>5.381425e-04</td>\n",
       "      <td>50.554698</td>\n",
       "    </tr>\n",
       "    <tr>\n",
       "      <th>50%</th>\n",
       "      <td>59.090000</td>\n",
       "      <td>59.834999</td>\n",
       "      <td>58.184999</td>\n",
       "      <td>59.115000</td>\n",
       "      <td>59.115000</td>\n",
       "      <td>0.002436</td>\n",
       "      <td>5.381425e-04</td>\n",
       "      <td>61.503090</td>\n",
       "    </tr>\n",
       "    <tr>\n",
       "      <th>75%</th>\n",
       "      <td>71.947502</td>\n",
       "      <td>72.989998</td>\n",
       "      <td>70.927504</td>\n",
       "      <td>71.932499</td>\n",
       "      <td>71.932499</td>\n",
       "      <td>0.013881</td>\n",
       "      <td>5.381425e-04</td>\n",
       "      <td>74.561549</td>\n",
       "    </tr>\n",
       "    <tr>\n",
       "      <th>max</th>\n",
       "      <td>124.660004</td>\n",
       "      <td>130.500000</td>\n",
       "      <td>120.790001</td>\n",
       "      <td>123.699997</td>\n",
       "      <td>123.699997</td>\n",
       "      <td>0.319634</td>\n",
       "      <td>5.381425e-04</td>\n",
       "      <td>123.766583</td>\n",
       "    </tr>\n",
       "  </tbody>\n",
       "</table>\n",
       "</div>"
      ],
      "text/plain": [
       "              Open         High          Low        Close    Adj Close  \\\n",
       "count  1740.000000  1740.000000  1740.000000  1740.000000  1740.000000   \n",
       "mean     62.145356    63.218460    60.998557    62.136155    62.136155   \n",
       "std      18.382076    18.765852    17.934130    18.354693    18.354693   \n",
       "min      12.960000    13.690000    10.070000    12.340000    12.340000   \n",
       "25%      49.640001    50.417499    49.024999    49.697499    49.697499   \n",
       "50%      59.090000    59.834999    58.184999    59.115000    59.115000   \n",
       "75%      71.947502    72.989998    70.927504    71.932499    71.932499   \n",
       "max     124.660004   130.500000   120.790001   123.699997   123.699997   \n",
       "\n",
       "        Log_Return   Forcast_log  Forcast_Price  \n",
       "count  1740.000000  1.898000e+03    1898.000000  \n",
       "mean      0.000533  5.381425e-04      63.276825  \n",
       "std       0.030672  4.311588e-21      18.054486  \n",
       "min      -0.282206  5.381425e-04       0.000000  \n",
       "25%      -0.012144  5.381425e-04      50.554698  \n",
       "50%       0.002436  5.381425e-04      61.503090  \n",
       "75%       0.013881  5.381425e-04      74.561549  \n",
       "max       0.319634  5.381425e-04     123.766583  "
      ]
     },
     "execution_count": 139,
     "metadata": {},
     "output_type": "execute_result"
    }
   ],
   "source": [
    "future_df.describe()"
   ]
  },
  {
   "cell_type": "code",
   "execution_count": 140,
   "id": "e0728cb7",
   "metadata": {
    "pycharm": {
     "name": "#%%\n"
    }
   },
   "outputs": [
    {
     "name": "stdout",
     "output_type": "stream",
     "text": [
      "count    1740.000000\n",
      "mean        0.000533\n",
      "std         0.030672\n",
      "min        -0.282206\n",
      "25%        -0.012144\n",
      "50%         0.002436\n",
      "75%         0.013881\n",
      "max         0.319634\n",
      "Name: Log_Return, dtype: float64\n"
     ]
    },
    {
     "data": {
      "image/png": "[encoded data removed]",
      "text/plain": [
       "<Figure size 432x288 with 1 Axes>"
      ]
     },
     "metadata": {
      "needs_background": "light"
     },
     "output_type": "display_data"
    }
   ],
   "source": [
    "import seaborn as sns \n",
    "\n",
    "sns.distplot(df['Log_Return'], color='blue') #density plot \n",
    "\n",
    "plt.title('2000–2023 Crude Oil return frequency')\n",
    "plt.xlabel('Possible range of data values')\n",
    "# Pull up summary statistics\n",
    "print(df['Log_Return'].describe())"
   ]
  },
  {
   "cell_type": "code",
   "execution_count": null,
   "id": "ae2078ed",
   "metadata": {
    "pycharm": {
     "name": "#%%\n"
    }
   },
   "outputs": [],
   "source": [
    "## --------------------------------------------------------------------------------------------------------------------------------------------------------------------------"
   ]
  },
  {
   "cell_type": "code",
   "execution_count": 147,
   "id": "c8831c65",
   "metadata": {
    "pycharm": {
     "name": "#%%\n"
    }
   },
   "outputs": [
    {
     "name": "stdout",
     "output_type": "stream",
     "text": [
      "Log Return Kurtosis: 25.71\n",
      "Log Return Skewness: 0.05\n"
     ]
    }
   ],
   "source": [
    "# calculate kurtosis and skewness  计算峰度（kurtosis）和偏度（skewness）\n",
    "log_returns = df['Log_Return']\n",
    "kurtosis_value = stats.kurtosis(log_returns)\n",
    "skewness_value = stats.skew(log_returns)\n",
    "\n",
    "# Display kurtosis and skewness\n",
    "print(f'Log Return Kurtosis: {kurtosis_value:.2f}')\n",
    "print(f'Log Return Skewness: {skewness_value:.2f}')"
   ]
  },
  {
   "cell_type": "markdown",
   "id": "b11f8954",
   "metadata": {
    "pycharm": {
     "name": "#%% md\n"
    }
   },
   "source": [
    "Kurtosis and skewness for standard normal distribution is 3 and 0. \n",
    "Great Kurtosis means the span of voltility is wide. \n",
    "Negative skewness means that the positive returns is more intense than negative returns.  "
   ]
  },
  {
   "cell_type": "code",
   "execution_count": 148,
   "id": "fa08e911",
   "metadata": {
    "pycharm": {
     "name": "#%%\n"
    }
   },
   "outputs": [
    {
     "name": "stdout",
     "output_type": "stream",
     "text": [
      "ADF Test:\n",
      "ADF Statistic: -7.634926254903471\n",
      "p-value: 1.9639064013176983e-11\n",
      "Critical Values: {'1%': -3.434168725808674, '5%': -2.8632267535965252, '10%': -2.567667981283309}\n",
      "\n",
      "KPSS Test:\n",
      "KPSS Statistic: 0.05913503569679424\n",
      "p-value: 0.1\n",
      "Lags Used: 1\n",
      "Critical Values: {'10%': 0.347, '5%': 0.463, '2.5%': 0.574, '1%': 0.739}\n",
      "\n",
      "DFGLS Test:\n",
      "      Dickey-Fuller GLS Results      \n",
      "=====================================\n",
      "Test Statistic                 -0.981\n",
      "P-value                         0.301\n",
      "Lags                               24\n",
      "-------------------------------------\n",
      "\n",
      "Trend: Constant\n",
      "Critical Values: -2.58 (1%), -1.96 (5%), -1.63 (10%)\n",
      "Null Hypothesis: The process contains a unit root.\n",
      "Alternative Hypothesis: The process is weakly stationary.\n",
      "\n",
      "Phillips-Perron Test:\n",
      "     Phillips-Perron Test (Z-tau)    \n",
      "=====================================\n",
      "Test Statistic                -41.334\n",
      "P-value                         0.000\n",
      "Lags                               25\n",
      "-------------------------------------\n",
      "\n",
      "Trend: Constant\n",
      "Critical Values: -3.43 (1%), -2.86 (5%), -2.57 (10%)\n",
      "Null Hypothesis: The process contains a unit root.\n",
      "Alternative Hypothesis: The process is weakly stationary.\n",
      "\n",
      "Zivot-Andrews Test:\n",
      "        Zivot-Andrews Results        \n",
      "=====================================\n",
      "Test Statistic                 -8.878\n",
      "P-value                         0.000\n",
      "Lags                               24\n",
      "-------------------------------------\n",
      "\n",
      "Trend: Constant\n",
      "Critical Values: -5.28 (1%), -4.81 (5%), -4.57 (10%)\n",
      "Null Hypothesis: The process contains a unit root with a single structural break.\n",
      "Alternative Hypothesis: The process is trend and break stationary.\n",
      "\n",
      "Variance Ratio Test:\n",
      "     Variance-Ratio Test Results     \n",
      "=====================================\n",
      "Test Statistic                 -3.770\n",
      "P-value                         0.000\n",
      "Lags                               12\n",
      "-------------------------------------\n",
      "\n",
      "Computed with overlapping blocks (de-biased)\n"
     ]
    }
   ],
   "source": [
    "\n",
    "from statsmodels.tsa.stattools import adfuller, kpss\n",
    "from arch.unitroot import DFGLS, PhillipsPerron, ZivotAndrews\n",
    "from arch.unitroot import VarianceRatio\n",
    "\n",
    "# Assuming you have a DataFrame df with a 'Log_Return' column\n",
    "# You can replace 'Log_Return' with the actual column name you want to analyze\n",
    "# 执行单位根检验（Unit Root Tests）\n",
    "# 使用adfuller函数执行ADF检验，将'Log_Return'列作为输入，并打印ADF统计量、p值以及临界值。\n",
    "# 使用kpss函数执行KPSS检验，同样将'Log_Return'列作为输入，并打印KPSS统计量、p值、使用的滞后阶数和临界值。\n",
    "# 使用DFGLS对象执行DFGLS检验，\n",
    "# 使用PhillipsPerron对象执行Phillips-Perron检验，\n",
    "# 使用ZivotAndrews对象执行Zivot-Andrews检验，\n",
    "\n",
    "\n",
    "\n",
    "# Perform ADF test\n",
    "adf_result = adfuller(df['Log_Return'])\n",
    "print(\"ADF Test:\")\n",
    "print(\"ADF Statistic:\", adf_result[0])\n",
    "print(\"p-value:\", adf_result[1])\n",
    "print(\"Critical Values:\", adf_result[4])\n",
    "\n",
    "# Perform KPSS test\n",
    "kpss_result = kpss(df['Log_Return'])\n",
    "print(\"\\nKPSS Test:\")\n",
    "print(\"KPSS Statistic:\", kpss_result[0])\n",
    "print(\"p-value:\", kpss_result[1])\n",
    "print(\"Lags Used:\", kpss_result[2])\n",
    "print(\"Critical Values:\", kpss_result[3])\n",
    "\n",
    "# Perform DFGLS test\n",
    "dfgls_result = DFGLS(df['Log_Return'])\n",
    "print(\"\\nDFGLS Test:\")\n",
    "print(dfgls_result.summary().as_text())\n",
    "\n",
    "# Perform Phillips-Perron test\n",
    "pp_result = PhillipsPerron(df['Log_Return'])\n",
    "print(\"\\nPhillips-Perron Test:\")\n",
    "print(pp_result.summary().as_text())\n",
    "\n",
    "# Perform Zivot-Andrews test\n",
    "za_result = ZivotAndrews(df['Log_Return'])\n",
    "print(\"\\nZivot-Andrews Test:\")\n",
    "print(za_result.summary().as_text())\n",
    "\n",
    "# Perform Variance Ratio test\n",
    "vr_result = VarianceRatio(df['Log_Return'], lags=12)\n",
    "print(\"\\nVariance Ratio Test:\")\n",
    "print(vr_result.summary().as_text())"
   ]
  },
  {
   "cell_type": "code",
   "execution_count": 150,
   "id": "0ad90bba",
   "metadata": {
    "pycharm": {
     "name": "#%%\n"
    }
   },
   "outputs": [
    {
     "name": "stdout",
     "output_type": "stream",
     "text": [
      "ADF test statistics: -7.634926254903471\n",
      "p-value: 1.9639064013176983e-11\n",
      "lags: 24\n",
      "number of observations: 1715\n",
      "Reject the Null hypothesis that the time series is not stationary, indeed it is stationary\n"
     ]
    }
   ],
   "source": [
    "from statsmodels.tsa.stattools import adfuller, kpss\n",
    "\n",
    "# 执行ADF检验的自定义函数，它接受一个时间序列数据作为输入。\n",
    "# 函数执行ADF检验并打印ADF统计量、p值、使用的滞后阶数以及观测值数量。\n",
    "# 根据p值的结果，函数打印相应的结论，指示是否拒绝了单位根检验的空假设（时间序列的非平稳性）。\n",
    "\n",
    "def adfuller_test(price):\n",
    "    result = adfuller(price)\n",
    "    label = ['ADF test statistics', 'p-value', 'lags', 'number of observations']\n",
    "    for name, value in zip(label, result):\n",
    "        print(name+\": \"+str(value))\n",
    "    \n",
    "    if result[1] < 0.05:\n",
    "        print(\"Reject the Null hypothesis that the time series is not stationary, indeed it is stationary\")\n",
    "    else:\n",
    "        print('Null hypothesis is true, the time series is NOT stationary')\n",
    "\n",
    "adfuller_test(df['Log_Return'])\n"
   ]
  },
  {
   "cell_type": "markdown",
   "id": "51e6fe2a",
   "metadata": {
    "pycharm": {
     "name": "#%% md\n"
    }
   },
   "source": [
    "VR tests was performed to test whether the return series is a pure random walk versus having some predictability. "
   ]
  },
  {
   "cell_type": "markdown",
   "id": "7c48aa88",
   "metadata": {
    "pycharm": {
     "name": "#%% md\n"
    }
   },
   "source": [
    "Non-linear dynamics:\n",
    "\n",
    "Investigation on stationarity using H. The H provides a way to measure the amount by which a financial time series deviates from a random walk."
   ]
  },
  {
   "cell_type": "code",
   "execution_count": 157,
   "id": "b7876508",
   "metadata": {
    "pycharm": {
     "name": "#%%\n"
    }
   },
   "outputs": [
    {
     "data": {
      "image/png": "[encoded data removed]",
      "text/plain": [
       "<Figure size 432x288 with 1 Axes>"
      ]
     },
     "metadata": {
      "needs_background": "light"
     },
     "output_type": "display_data"
    }
   ],
   "source": [
    "from numpy import std, subtract, sqrt, log, polyfit\n",
    "# Get the recent 2000 closing prices\n",
    "closes_recent = df['Close'][-2000:]\n",
    "\n",
    "# Plot the recent closing prices\n",
    "plt.plot(closes_recent)\n",
    "plt.title('Recent 2000 Closing Prices')\n",
    "plt.show()"
   ]
  },
  {
   "cell_type": "code",
   "execution_count": 174,
   "id": "86d47e75-a85f-4b64-b0e7-d791ec3820ed",
   "metadata": {
    "pycharm": {
     "name": "#%%\n"
    }
   },
   "outputs": [
    {
     "name": "stdout",
     "output_type": "stream",
     "text": [
      "[1.53464264 1.29057824 0.         1.29057824 1.53464264 1.68840273\n",
      " 1.80191111 1.90549623 1.98890858 2.05005398 2.10774645 2.16218344\n",
      " 2.2117417  2.25268267 2.29555655 2.33976242 2.38692827 2.42932317\n",
      " 2.47422453 2.52148327 2.56738741 2.60518871]\n"
     ]
    },
    {
     "data": {
      "text/plain": [
       "Text(0.5, 1.0, 'Hurst')"
      ]
     },
     "execution_count": 174,
     "metadata": {},
     "output_type": "execute_result"
    },
    {
     "data": {
      "image/png": "[encoded data removed]",
      "text/plain": [
       "<Figure size 432x288 with 1 Axes>"
      ]
     },
     "metadata": {
      "needs_background": "light"
     },
     "output_type": "display_data"
    }
   ],
   "source": [
    "\n",
    "# calculate Hurst of recent prices\n",
    "# lag1 = 2\n",
    "# lags = range(lag1, 20)\n",
    "# tau = [sqrt(std(subtract(closes_recent[lag:], closes_recent[:-lag]))) for lag in lags]\n",
    "tau = []\n",
    "lags = range(lag1, 20)\n",
    "for lag in lags:\n",
    "    # 计算滞后的差值\n",
    "    diff_values = closes_recent.diff(periods=lag).dropna()  # 丢弃NaN值\n",
    "    \n",
    "    # 计算标准差\n",
    "    std_value = diff_values.std()\n",
    "    \n",
    "    # 添加到tau列表\n",
    "    tau.append(sqrt(std_value))\n",
    "# 将tau转换为NumPy数组\n",
    "tau = np.array(tau)\n",
    "print(tau)\n",
    "\n",
    "# Convert lags and tau to NumPy arrays\n",
    "lags = np.array(lags)\n",
    "tau = np.array(tau)\n",
    "\n",
    "# Filter out tau values that are zero or negative\n",
    "non_zero_indices = tau > 0\n",
    "lags_filtered = lags[non_zero_indices]\n",
    "tau_filtered = tau[non_zero_indices]\n",
    "\n",
    "# Plot log(lags) vs. log(tau) for filtered values\n",
    "plt.plot(log(lags_filtered), log(tau_filtered))\n",
    "\n",
    "#plt.plot(log(lags), log(tau)); \n",
    "plt.title('Hurst')"
   ]
  },
  {
   "cell_type": "code",
   "execution_count": 176,
   "id": "d9fe8e0f-735a-48ef-af99-c7593b23b574",
   "metadata": {
    "pycharm": {
     "name": "#%%\n"
    }
   },
   "outputs": [
    {
     "name": "stdout",
     "output_type": "stream",
     "text": [
      "True\n",
      "False\n"
     ]
    }
   ],
   "source": [
    "# log(lags_filtered)包含NaN值，那么polyfit将无法正常工作。这可能是因为在滤波过程中，某些lags的值为0（因为log(0)是未定义的，会导致NaN）。\n",
    "print(np.isnan(log(lags_filtered)).any())\n",
    "print(np.isnan(log(tau_filtered)).any())\n",
    "# m = polyfit(log(lags_filtered), log(tau_filtered), 1)\n",
    "# hurst = m[0]*2\n",
    "# print ('hurst = ', hurst)"
   ]
  },
  {
   "cell_type": "code",
   "execution_count": 178,
   "id": "604fbd54-35f7-461f-8b8c-fa37ac480a6b",
   "metadata": {
    "pycharm": {
     "name": "#%%\n"
    }
   },
   "outputs": [
    {
     "name": "stdout",
     "output_type": "stream",
     "text": [
      "hurst =  0.463912400497446\n"
     ]
    }
   ],
   "source": [
    "positive_indices = (lags_filtered > 0) & (~np.isnan(tau_filtered))\n",
    "lags_positive = lags_filtered[positive_indices]\n",
    "tau_positive = tau_filtered[positive_indices]\n",
    "log_lags = np.log(lags_positive)\n",
    "log_tau = np.log(tau_positive)\n",
    "\n",
    "m = polyfit(log_lags, log_tau, 1)\n",
    "hurst = m[0]*2\n",
    "print('hurst = ', hurst)\n"
   ]
  },
  {
   "cell_type": "markdown",
   "id": "27fee680",
   "metadata": {
    "pycharm": {
     "name": "#%% md\n"
    }
   },
   "source": [
    "# GARCH model:\n"
   ]
  },
  {
   "cell_type": "code",
   "execution_count": 179,
   "id": "6ff4486b",
   "metadata": {
    "pycharm": {
     "name": "#%%\n"
    }
   },
   "outputs": [],
   "source": [
    "X = 100* df['Log_Return']\n"
   ]
  },
  {
   "cell_type": "markdown",
   "id": "996639df",
   "metadata": {
    "pycharm": {
     "name": "#%% md\n"
    }
   },
   "source": [
    "fit an ARCH model and plot the squared residual to examine the auto correlation"
   ]
  },
  {
   "cell_type": "code",
   "execution_count": 180,
   "id": "c1fdaf84",
   "metadata": {
    "pycharm": {
     "name": "#%%\n"
    }
   },
   "outputs": [
    {
     "name": "stdout",
     "output_type": "stream",
     "text": [
      "                        Constant Mean - GARCH Model Results                         \n",
      "====================================================================================\n",
      "Dep. Variable:                        resid   R-squared:                       0.000\n",
      "Mean Model:                   Constant Mean   Adj. R-squared:                  0.000\n",
      "Vol Model:                            GARCH   Log-Likelihood:               -3863.30\n",
      "Distribution:      Standardized Student's t   AIC:                           7740.59\n",
      "Method:                  Maximum Likelihood   BIC:                           7778.82\n",
      "                                              No. Observations:                 1740\n",
      "Date:                      Sun, Oct 01 2023   Df Residuals:                     1739\n",
      "Time:                              20:58:50   Df Model:                            1\n",
      "                                 Mean Model                                \n",
      "===========================================================================\n",
      "                 coef    std err          t      P>|t|     95.0% Conf. Int.\n",
      "---------------------------------------------------------------------------\n",
      "mu             0.0677  4.826e-02      1.403      0.161 [-2.686e-02,  0.162]\n",
      "                              Volatility Model                             \n",
      "===========================================================================\n",
      "                 coef    std err          t      P>|t|     95.0% Conf. Int.\n",
      "---------------------------------------------------------------------------\n",
      "omega          0.3994      0.112      3.572  3.545e-04    [  0.180,  0.619]\n",
      "alpha[1]       0.1139  2.901e-02      3.924  8.698e-05  [5.699e-02,  0.171]\n",
      "alpha[2]       0.0655  3.378e-02      1.940  5.240e-02 [-6.793e-04,  0.132]\n",
      "beta[1]        0.1488      0.118      1.261      0.207 [-8.241e-02,  0.380]\n",
      "beta[2]        0.6092      0.102      5.983  2.188e-09    [  0.410,  0.809]\n",
      "                              Distribution                              \n",
      "========================================================================\n",
      "                 coef    std err          t      P>|t|  95.0% Conf. Int.\n",
      "------------------------------------------------------------------------\n",
      "nu             5.4104      0.735      7.364  1.783e-13 [  3.970,  6.850]\n",
      "========================================================================\n",
      "\n",
      "Covariance estimator: robust\n"
     ]
    },
    {
     "data": {
      "text/plain": [
       "Text(0.5, 1.0, 'AutoCorrelation for 30 lags')"
      ]
     },
     "execution_count": 180,
     "metadata": {},
     "output_type": "execute_result"
    },
    {
     "data": {
      "image/png": "[encoded data removed]",
      "text/plain": [
       "<Figure size 864x432 with 1 Axes>"
      ]
     },
     "metadata": {
      "needs_background": "light"
     },
     "output_type": "display_data"
    },
    {
     "data": {
      "image/png": "[encoded data removed]",
      "text/plain": [
       "<Figure size 432x288 with 1 Axes>"
      ]
     },
     "metadata": {
      "needs_background": "light"
     },
     "output_type": "display_data"
    }
   ],
   "source": [
    "from arch import arch_model  # Import the arch_model function\n",
    "from statsmodels.graphics.tsaplots import plot_acf\n",
    "\n",
    "# Fit a model to your data (e.g., a GARCH(1,1) model)\n",
    "model = arch_model(X, vol='Garch', p=2, q=2)\n",
    "\n",
    "# Fit the model to estimate parameters\n",
    "res = model.fit(disp='off')\n",
    "\n",
    "# Get the residuals\n",
    "residuals = res.resid\n",
    "gam = arch_model(residuals, p=2, o=0, q=2, dist='StudentsT')\n",
    "gres = gam.fit(update_freq=5, disp='off')\n",
    "print(gres.summary())\n",
    "\n",
    "# Plot the squared residuals\n",
    "plt.figure(figsize=(12, 6))\n",
    "plt.plot(gres.resid**2)\n",
    "\n",
    "# Plot autocorrelation bars for up to 30 lags\n",
    "plot_acf(gres.resid**2, lags=30)\n",
    "plt.title('AutoCorrelation for 30 lags')"
   ]
  },
  {
   "cell_type": "code",
   "execution_count": 181,
   "id": "f1ab3d10",
   "metadata": {
    "pycharm": {
     "name": "#%%\n"
    },
    "scrolled": true
   },
   "outputs": [
    {
     "name": "stdout",
     "output_type": "stream",
     "text": [
      "Iteration:      1,   Func. Count:      9,   Neg. LLF: 7632.132129020922\n",
      "Iteration:      2,   Func. Count:     22,   Neg. LLF: 64379.2556916583\n",
      "Iteration:      3,   Func. Count:     33,   Neg. LLF: 5212.396763605333\n",
      "Iteration:      4,   Func. Count:     43,   Neg. LLF: 4755.414809199441\n",
      "Iteration:      5,   Func. Count:     52,   Neg. LLF: 3956.7871722687487\n",
      "Iteration:      6,   Func. Count:     61,   Neg. LLF: 3972.14821525715\n",
      "Iteration:      7,   Func. Count:     70,   Neg. LLF: 3940.349918270326\n",
      "Iteration:      8,   Func. Count:     79,   Neg. LLF: 3964.2836120599395\n",
      "Iteration:      9,   Func. Count:     88,   Neg. LLF: 3941.194534935708\n",
      "Iteration:     10,   Func. Count:     97,   Neg. LLF: 3996.2075808950376\n",
      "Iteration:     11,   Func. Count:    106,   Neg. LLF: 3938.0308318250245\n",
      "Iteration:     12,   Func. Count:    114,   Neg. LLF: 3937.9623441871363\n",
      "Iteration:     13,   Func. Count:    122,   Neg. LLF: 3937.931138607211\n",
      "Iteration:     14,   Func. Count:    130,   Neg. LLF: 3937.9293506838944\n",
      "Iteration:     15,   Func. Count:    138,   Neg. LLF: 3937.929265817005\n",
      "Iteration:     16,   Func. Count:    146,   Neg. LLF: 3937.9292587282607\n",
      "Iteration:     17,   Func. Count:    154,   Neg. LLF: 3937.929256916657\n",
      "Iteration:     18,   Func. Count:    161,   Neg. LLF: 3937.9292569321983\n",
      "Optimization terminated successfully    (Exit mode 0)\n",
      "            Current function value: 3937.929256916657\n",
      "            Iterations: 18\n",
      "            Function evaluations: 161\n",
      "            Gradient evaluations: 18\n"
     ]
    },
    {
     "data": {
      "text/html": [
       "<table class=\"simpletable\">\n",
       "<caption>Constant Mean - GARCH Model Results</caption>\n",
       "<tr>\n",
       "  <th>Dep. Variable:</th>     <td>Log_Return</td>     <th>  R-squared:         </th>  <td>   0.000</td> \n",
       "</tr>\n",
       "<tr>\n",
       "  <th>Mean Model:</th>       <td>Constant Mean</td>   <th>  Adj. R-squared:    </th>  <td>   0.000</td> \n",
       "</tr>\n",
       "<tr>\n",
       "  <th>Vol Model:</th>            <td>GARCH</td>       <th>  Log-Likelihood:    </th> <td>  -3937.93</td>\n",
       "</tr>\n",
       "<tr>\n",
       "  <th>Distribution:</th>        <td>Normal</td>       <th>  AIC:               </th> <td>   7889.86</td>\n",
       "</tr>\n",
       "<tr>\n",
       "  <th>Method:</th>        <td>Maximum Likelihood</td> <th>  BIC:               </th> <td>   7928.09</td>\n",
       "</tr>\n",
       "<tr>\n",
       "  <th></th>                        <td></td>          <th>  No. Observations:  </th>    <td>1740</td>   \n",
       "</tr>\n",
       "<tr>\n",
       "  <th>Date:</th>           <td>Sun, Oct 01 2023</td>  <th>  Df Residuals:      </th>    <td>1739</td>   \n",
       "</tr>\n",
       "<tr>\n",
       "  <th>Time:</th>               <td>20:58:52</td>      <th>  Df Model:          </th>      <td>1</td>    \n",
       "</tr>\n",
       "</table>\n",
       "<table class=\"simpletable\">\n",
       "<caption>Mean Model</caption>\n",
       "<tr>\n",
       "   <td></td>     <th>coef</th>     <th>std err</th>      <th>t</th>       <th>P>|t|</th>     <th>95.0% Conf. Int.</th>  \n",
       "</tr>\n",
       "<tr>\n",
       "  <th>mu</th> <td>    0.0888</td> <td>5.190e-02</td> <td>    1.711</td> <td>8.716e-02</td> <td>[-1.294e-02,  0.191]</td>\n",
       "</tr>\n",
       "</table>\n",
       "<table class=\"simpletable\">\n",
       "<caption>Volatility Model</caption>\n",
       "<tr>\n",
       "      <td></td>        <th>coef</th>     <th>std err</th>      <th>t</th>       <th>P>|t|</th>    <th>95.0% Conf. Int.</th>  \n",
       "</tr>\n",
       "<tr>\n",
       "  <th>omega</th>    <td>    0.3973</td> <td>    0.672</td> <td>    0.592</td> <td>    0.554</td>  <td>[ -0.919,  1.714]</td> \n",
       "</tr>\n",
       "<tr>\n",
       "  <th>alpha[1]</th> <td>    0.1589</td> <td>4.503e-02</td> <td>    3.530</td> <td>4.162e-04</td> <td>[7.068e-02,  0.247]</td>\n",
       "</tr>\n",
       "<tr>\n",
       "  <th>alpha[2]</th> <td>    0.0375</td> <td>    0.329</td> <td>    0.114</td> <td>    0.909</td>  <td>[ -0.607,  0.682]</td> \n",
       "</tr>\n",
       "<tr>\n",
       "  <th>beta[1]</th>  <td>    0.2633</td> <td>    1.920</td> <td>    0.137</td> <td>    0.891</td>  <td>[ -3.499,  4.026]</td> \n",
       "</tr>\n",
       "<tr>\n",
       "  <th>beta[2]</th>  <td>    0.4865</td> <td>    0.771</td> <td>    0.631</td> <td>    0.528</td>  <td>[ -1.025,  1.998]</td> \n",
       "</tr>\n",
       "<tr>\n",
       "  <th>beta[3]</th>  <td>6.3572e-17</td> <td>    0.755</td> <td>8.417e-17</td> <td>    1.000</td>  <td>[ -1.480,  1.480]</td> \n",
       "</tr>\n",
       "</table><br/><br/>Covariance estimator: robust"
      ],
      "text/latex": [
       "\\begin{center}\n",
       "\\begin{tabular}{lclc}\n",
       "\\toprule\n",
       "\\textbf{Dep. Variable:} &    Log\\_Return     & \\textbf{  R-squared:         } &     0.000   \\\\\n",
       "\\textbf{Mean Model:}    &   Constant Mean    & \\textbf{  Adj. R-squared:    } &     0.000   \\\\\n",
       "\\textbf{Vol Model:}     &       GARCH        & \\textbf{  Log-Likelihood:    } &   -3937.93  \\\\\n",
       "\\textbf{Distribution:}  &       Normal       & \\textbf{  AIC:               } &    7889.86  \\\\\n",
       "\\textbf{Method:}        & Maximum Likelihood & \\textbf{  BIC:               } &    7928.09  \\\\\n",
       "\\textbf{}               &                    & \\textbf{  No. Observations:  } &    1740     \\\\\n",
       "\\textbf{Date:}          &  Sun, Oct 01 2023  & \\textbf{  Df Residuals:      } &    1739     \\\\\n",
       "\\textbf{Time:}          &      20:58:52      & \\textbf{  Df Model:          } &     1       \\\\\n",
       "\\bottomrule\n",
       "\\end{tabular}\n",
       "\\begin{tabular}{lccccc}\n",
       "            & \\textbf{coef} & \\textbf{std err} & \\textbf{t} & \\textbf{P$> |$t$|$} & \\textbf{95.0\\% Conf. Int.}  \\\\\n",
       "\\midrule\n",
       "\\textbf{mu} &       0.0888  &    5.190e-02     &     1.711  &      8.716e-02       &    [-1.294e-02,  0.191]     \\\\\n",
       "                  & \\textbf{coef} & \\textbf{std err} & \\textbf{t} & \\textbf{P$> |$t$|$} & \\textbf{95.0\\% Conf. Int.}  \\\\\n",
       "\\midrule\n",
       "\\textbf{omega}    &       0.3973  &        0.672     &     0.592  &          0.554       &     [ -0.919,  1.714]       \\\\\n",
       "\\textbf{alpha[1]} &       0.1589  &    4.503e-02     &     3.530  &      4.162e-04       &    [7.068e-02,  0.247]      \\\\\n",
       "\\textbf{alpha[2]} &       0.0375  &        0.329     &     0.114  &          0.909       &     [ -0.607,  0.682]       \\\\\n",
       "\\textbf{beta[1]}  &       0.2633  &        1.920     &     0.137  &          0.891       &     [ -3.499,  4.026]       \\\\\n",
       "\\textbf{beta[2]}  &       0.4865  &        0.771     &     0.631  &          0.528       &     [ -1.025,  1.998]       \\\\\n",
       "\\textbf{beta[3]}  &   6.3572e-17  &        0.755     & 8.417e-17  &          1.000       &     [ -1.480,  1.480]       \\\\\n",
       "\\bottomrule\n",
       "\\end{tabular}\n",
       "%\\caption{Constant Mean - GARCH Model Results}\n",
       "\\end{center}\n",
       "\n",
       "Covariance estimator: robust"
      ],
      "text/plain": [
       "<class 'statsmodels.iolib.summary.Summary'>\n",
       "\"\"\"\n",
       "                     Constant Mean - GARCH Model Results                      \n",
       "==============================================================================\n",
       "Dep. Variable:             Log_Return   R-squared:                       0.000\n",
       "Mean Model:             Constant Mean   Adj. R-squared:                  0.000\n",
       "Vol Model:                      GARCH   Log-Likelihood:               -3937.93\n",
       "Distribution:                  Normal   AIC:                           7889.86\n",
       "Method:            Maximum Likelihood   BIC:                           7928.09\n",
       "                                        No. Observations:                 1740\n",
       "Date:                Sun, Oct 01 2023   Df Residuals:                     1739\n",
       "Time:                        20:58:52   Df Model:                            1\n",
       "                                 Mean Model                                \n",
       "===========================================================================\n",
       "                 coef    std err          t      P>|t|     95.0% Conf. Int.\n",
       "---------------------------------------------------------------------------\n",
       "mu             0.0888  5.190e-02      1.711  8.716e-02 [-1.294e-02,  0.191]\n",
       "                             Volatility Model                             \n",
       "==========================================================================\n",
       "                 coef    std err          t      P>|t|    95.0% Conf. Int.\n",
       "--------------------------------------------------------------------------\n",
       "omega          0.3973      0.672      0.592      0.554   [ -0.919,  1.714]\n",
       "alpha[1]       0.1589  4.503e-02      3.530  4.162e-04 [7.068e-02,  0.247]\n",
       "alpha[2]       0.0375      0.329      0.114      0.909   [ -0.607,  0.682]\n",
       "beta[1]        0.2633      1.920      0.137      0.891   [ -3.499,  4.026]\n",
       "beta[2]        0.4865      0.771      0.631      0.528   [ -1.025,  1.998]\n",
       "beta[3]    6.3572e-17      0.755  8.417e-17      1.000   [ -1.480,  1.480]\n",
       "==========================================================================\n",
       "\n",
       "Covariance estimator: robust\n",
       "\"\"\""
      ]
     },
     "execution_count": 181,
     "metadata": {},
     "output_type": "execute_result"
    }
   ],
   "source": [
    "model = arch_model(X, p=2, q=3)\n",
    "model_fit = model.fit()\n",
    "model_fit.summary()"
   ]
  },
  {
   "cell_type": "code",
   "execution_count": 182,
   "id": "a1aa3bfb",
   "metadata": {
    "pycharm": {
     "name": "#%%\n"
    }
   },
   "outputs": [
    {
     "name": "stdout",
     "output_type": "stream",
     "text": [
      "Iteration:      1,   Func. Count:     10,   Neg. LLF: 10355.161085541615\n",
      "Iteration:      2,   Func. Count:     23,   Neg. LLF: 44557.29640219832\n",
      "Iteration:      3,   Func. Count:     34,   Neg. LLF: 4204.364787396582\n",
      "Iteration:      4,   Func. Count:     45,   Neg. LLF: 4175.098607484833\n",
      "Iteration:      5,   Func. Count:     56,   Neg. LLF: 5372.918219048099\n",
      "Iteration:      6,   Func. Count:     67,   Neg. LLF: 4108.250628413669\n",
      "Iteration:      7,   Func. Count:     78,   Neg. LLF: 3863.0133499027684\n",
      "Iteration:      8,   Func. Count:     87,   Neg. LLF: 3869.245706780594\n",
      "Iteration:      9,   Func. Count:     97,   Neg. LLF: 3862.9483865407747\n",
      "Iteration:     10,   Func. Count:    107,   Neg. LLF: 3862.8594574066415\n",
      "Iteration:     11,   Func. Count:    116,   Neg. LLF: 3862.8570611945943\n",
      "Iteration:     12,   Func. Count:    125,   Neg. LLF: 3862.857016245991\n",
      "Iteration:     13,   Func. Count:    134,   Neg. LLF: 3862.857013533345\n",
      "Iteration:     14,   Func. Count:    142,   Neg. LLF: 3862.857013533347\n",
      "Optimization terminated successfully    (Exit mode 0)\n",
      "            Current function value: 3862.857013533345\n",
      "            Iterations: 14\n",
      "            Function evaluations: 142\n",
      "            Gradient evaluations: 14\n",
      "                        Constant Mean - GARCH Model Results                         \n",
      "====================================================================================\n",
      "Dep. Variable:                   Log_Return   R-squared:                       0.000\n",
      "Mean Model:                   Constant Mean   Adj. R-squared:                  0.000\n",
      "Vol Model:                            GARCH   Log-Likelihood:               -3862.86\n",
      "Distribution:      Standardized Student's t   AIC:                           7741.71\n",
      "Method:                  Maximum Likelihood   BIC:                           7785.41\n",
      "                                              No. Observations:                 1740\n",
      "Date:                      Sun, Oct 01 2023   Df Residuals:                     1739\n",
      "Time:                              20:58:54   Df Model:                            1\n",
      "                                Mean Model                                \n",
      "==========================================================================\n",
      "                 coef    std err          t      P>|t|    95.0% Conf. Int.\n",
      "--------------------------------------------------------------------------\n",
      "mu             0.1624  4.743e-02      3.424  6.161e-04 [6.945e-02,  0.255]\n",
      "                             Volatility Model                             \n",
      "==========================================================================\n",
      "                 coef    std err          t      P>|t|    95.0% Conf. Int.\n",
      "--------------------------------------------------------------------------\n",
      "omega          0.4383      0.137      3.196  1.392e-03   [  0.170,  0.707]\n",
      "alpha[1]       0.1042  3.371e-02      3.092  1.986e-03 [3.817e-02,  0.170]\n",
      "alpha[2]       0.1031  4.814e-02      2.142  3.215e-02 [8.786e-03,  0.197]\n",
      "beta[1]        0.2948      0.676      0.436      0.663   [ -1.031,  1.621]\n",
      "beta[2]        0.0000      1.678      0.000      1.000   [ -3.289,  3.289]\n",
      "beta[3]        0.4310      1.029      0.419      0.675   [ -1.586,  2.448]\n",
      "                              Distribution                              \n",
      "========================================================================\n",
      "                 coef    std err          t      P>|t|  95.0% Conf. Int.\n",
      "------------------------------------------------------------------------\n",
      "nu             5.3434      0.728      7.339  2.147e-13 [  3.916,  6.770]\n",
      "========================================================================\n",
      "\n",
      "Covariance estimator: robust\n",
      "Iteration:      1,   Func. Count:     10,   Neg. LLF: 43458.03890214102\n",
      "Iteration:      2,   Func. Count:     24,   Neg. LLF: 19899.669340513203\n",
      "Iteration:      3,   Func. Count:     36,   Neg. LLF: 24382.69659870794\n",
      "Iteration:      4,   Func. Count:     49,   Neg. LLF: 14552.799711121108\n",
      "Iteration:      5,   Func. Count:     60,   Neg. LLF: 31609.11894872046\n",
      "Iteration:      6,   Func. Count:     71,   Neg. LLF: 3875.5748110468303\n",
      "Iteration:      7,   Func. Count:     81,   Neg. LLF: 3917.7543355839007\n",
      "Iteration:      8,   Func. Count:     91,   Neg. LLF: 3866.698745715178\n",
      "Iteration:      9,   Func. Count:    100,   Neg. LLF: 3866.295050139172\n",
      "Iteration:     10,   Func. Count:    109,   Neg. LLF: 3866.2162966316096\n",
      "Iteration:     11,   Func. Count:    118,   Neg. LLF: 3866.175012667644\n",
      "Iteration:     12,   Func. Count:    127,   Neg. LLF: 3866.1746570709474\n",
      "Iteration:     13,   Func. Count:    136,   Neg. LLF: 3866.174516180723\n",
      "Iteration:     14,   Func. Count:    145,   Neg. LLF: 3866.174503115765\n",
      "Iteration:     15,   Func. Count:    154,   Neg. LLF: 3866.1745019367113\n",
      "Iteration:     16,   Func. Count:    162,   Neg. LLF: 3866.1745019367104\n",
      "Optimization terminated successfully    (Exit mode 0)\n",
      "            Current function value: 3866.1745019367113\n",
      "            Iterations: 16\n",
      "            Function evaluations: 162\n",
      "            Gradient evaluations: 16\n",
      "                        Constant Mean - GARCH Model Results                         \n",
      "====================================================================================\n",
      "Dep. Variable:                   Log_Return   R-squared:                       0.000\n",
      "Mean Model:                   Constant Mean   Adj. R-squared:                  0.000\n",
      "Vol Model:                            GARCH   Log-Likelihood:               -3862.86\n",
      "Distribution:      Standardized Student's t   AIC:                           7741.71\n",
      "Method:                  Maximum Likelihood   BIC:                           7785.41\n",
      "                                              No. Observations:                 1740\n",
      "Date:                      Sun, Oct 01 2023   Df Residuals:                     1739\n",
      "Time:                              20:58:54   Df Model:                            1\n",
      "                                Mean Model                                \n",
      "==========================================================================\n",
      "                 coef    std err          t      P>|t|    95.0% Conf. Int.\n",
      "--------------------------------------------------------------------------\n",
      "mu             0.1624  4.743e-02      3.424  6.161e-04 [6.945e-02,  0.255]\n",
      "                             Volatility Model                             \n",
      "==========================================================================\n",
      "                 coef    std err          t      P>|t|    95.0% Conf. Int.\n",
      "--------------------------------------------------------------------------\n",
      "omega          0.4383      0.137      3.196  1.392e-03   [  0.170,  0.707]\n",
      "alpha[1]       0.1042  3.371e-02      3.092  1.986e-03 [3.817e-02,  0.170]\n",
      "alpha[2]       0.1031  4.814e-02      2.142  3.215e-02 [8.786e-03,  0.197]\n",
      "beta[1]        0.2948      0.676      0.436      0.663   [ -1.031,  1.621]\n",
      "beta[2]        0.0000      1.678      0.000      1.000   [ -3.289,  3.289]\n",
      "beta[3]        0.4310      1.029      0.419      0.675   [ -1.586,  2.448]\n",
      "                              Distribution                              \n",
      "========================================================================\n",
      "                 coef    std err          t      P>|t|  95.0% Conf. Int.\n",
      "------------------------------------------------------------------------\n",
      "nu             5.3434      0.728      7.339  2.147e-13 [  3.916,  6.770]\n",
      "========================================================================\n",
      "\n",
      "Covariance estimator: robust\n",
      "Iteration:      1,   Func. Count:     10,   Neg. LLF: 10355.161085541615\n",
      "Iteration:      2,   Func. Count:     23,   Neg. LLF: 44557.29640219832\n",
      "Iteration:      3,   Func. Count:     34,   Neg. LLF: 4204.364787396582\n",
      "Iteration:      4,   Func. Count:     45,   Neg. LLF: 4175.098607484833\n",
      "Iteration:      5,   Func. Count:     56,   Neg. LLF: 5372.918219048099\n",
      "Iteration:      6,   Func. Count:     67,   Neg. LLF: 4108.250628413669\n",
      "Iteration:      7,   Func. Count:     78,   Neg. LLF: 3863.0133499027684\n",
      "Iteration:      8,   Func. Count:     87,   Neg. LLF: 3869.245706780594\n",
      "Iteration:      9,   Func. Count:     97,   Neg. LLF: 3862.9483865407747\n",
      "Iteration:     10,   Func. Count:    107,   Neg. LLF: 3862.8594574066415\n",
      "Iteration:     11,   Func. Count:    116,   Neg. LLF: 3862.8570611945943\n",
      "Iteration:     12,   Func. Count:    125,   Neg. LLF: 3862.857016245991\n",
      "Iteration:     13,   Func. Count:    134,   Neg. LLF: 3862.857013533345\n",
      "Iteration:     14,   Func. Count:    142,   Neg. LLF: 3862.857013533347\n",
      "Optimization terminated successfully    (Exit mode 0)\n",
      "            Current function value: 3862.857013533345\n",
      "            Iterations: 14\n",
      "            Function evaluations: 142\n",
      "            Gradient evaluations: 14\n",
      "                        Constant Mean - GARCH Model Results                         \n",
      "====================================================================================\n",
      "Dep. Variable:                   Log_Return   R-squared:                       0.000\n",
      "Mean Model:                   Constant Mean   Adj. R-squared:                  0.000\n",
      "Vol Model:                            GARCH   Log-Likelihood:               -3862.86\n",
      "Distribution:      Standardized Student's t   AIC:                           7741.71\n",
      "Method:                  Maximum Likelihood   BIC:                           7785.41\n",
      "                                              No. Observations:                 1740\n",
      "Date:                      Sun, Oct 01 2023   Df Residuals:                     1739\n",
      "Time:                              20:58:54   Df Model:                            1\n",
      "                                Mean Model                                \n",
      "==========================================================================\n",
      "                 coef    std err          t      P>|t|    95.0% Conf. Int.\n",
      "--------------------------------------------------------------------------\n",
      "mu             0.1624  4.743e-02      3.424  6.161e-04 [6.945e-02,  0.255]\n",
      "                             Volatility Model                             \n",
      "==========================================================================\n",
      "                 coef    std err          t      P>|t|    95.0% Conf. Int.\n",
      "--------------------------------------------------------------------------\n",
      "omega          0.4383      0.137      3.196  1.392e-03   [  0.170,  0.707]\n",
      "alpha[1]       0.1042  3.371e-02      3.092  1.986e-03 [3.817e-02,  0.170]\n",
      "alpha[2]       0.1031  4.814e-02      2.142  3.215e-02 [8.786e-03,  0.197]\n",
      "beta[1]        0.2948      0.676      0.436      0.663   [ -1.031,  1.621]\n",
      "beta[2]        0.0000      1.678      0.000      1.000   [ -3.289,  3.289]\n",
      "beta[3]        0.4310      1.029      0.419      0.675   [ -1.586,  2.448]\n",
      "                              Distribution                              \n",
      "========================================================================\n",
      "                 coef    std err          t      P>|t|  95.0% Conf. Int.\n",
      "------------------------------------------------------------------------\n",
      "nu             5.3434      0.728      7.339  2.147e-13 [  3.916,  6.770]\n",
      "========================================================================\n",
      "\n",
      "Covariance estimator: robust\n"
     ]
    }
   ],
   "source": [
    "am = arch_model(X, p=2, q=3, vol='Garch', dist='StudentsT')\n",
    "res = am.fit()\n",
    "print(res.summary())\n",
    "eam = arch_model(X, p=2,q=3, vol='EGARCH', dist='StudentsT')\n",
    "eres = eam.fit()\n",
    "print(res.summary())\n",
    "gjam = arch_model(X, p=2, q=3, dist='StudentsT')\n",
    "gjres = gjam.fit()\n",
    "print(gjres.summary())"
   ]
  },
  {
   "cell_type": "code",
   "execution_count": 183,
   "id": "80e162c9",
   "metadata": {
    "pycharm": {
     "name": "#%%\n"
    }
   },
   "outputs": [
    {
     "name": "stdout",
     "output_type": "stream",
     "text": [
      "Iteration:      1,   Func. Count:     10,   Neg. LLF: 43458.03890214102\n",
      "Iteration:      2,   Func. Count:     24,   Neg. LLF: 19899.669340513203\n",
      "Iteration:      3,   Func. Count:     36,   Neg. LLF: 24382.69659870794\n",
      "Iteration:      4,   Func. Count:     49,   Neg. LLF: 14552.799711121108\n",
      "Iteration:      5,   Func. Count:     60,   Neg. LLF: 31609.11894872046\n",
      "Iteration:      6,   Func. Count:     71,   Neg. LLF: 3875.5748110468303\n",
      "Iteration:      7,   Func. Count:     81,   Neg. LLF: 3917.7543355839007\n",
      "Iteration:      8,   Func. Count:     91,   Neg. LLF: 3866.698745715178\n",
      "Iteration:      9,   Func. Count:    100,   Neg. LLF: 3866.295050139172\n",
      "Iteration:     10,   Func. Count:    109,   Neg. LLF: 3866.2162966316096\n",
      "Iteration:     11,   Func. Count:    118,   Neg. LLF: 3866.175012667644\n",
      "Iteration:     12,   Func. Count:    127,   Neg. LLF: 3866.1746570709474\n",
      "Iteration:     13,   Func. Count:    136,   Neg. LLF: 3866.174516180723\n",
      "Iteration:     14,   Func. Count:    145,   Neg. LLF: 3866.174503115765\n",
      "Iteration:     15,   Func. Count:    154,   Neg. LLF: 3866.1745019367113\n",
      "Iteration:     16,   Func. Count:    162,   Neg. LLF: 3866.1745019367104\n",
      "Optimization terminated successfully    (Exit mode 0)\n",
      "            Current function value: 3866.1745019367113\n",
      "            Iterations: 16\n",
      "            Function evaluations: 162\n",
      "            Gradient evaluations: 16\n"
     ]
    }
   ],
   "source": [
    "from arch import arch_model  # Import the arch_model function\n",
    "\n",
    "model = arch_model(X, p=2,q=3, vol='EGARCH', dist='StudentsT')\n",
    "results = model.fit()\n",
    "arima_residuals = results.resid\n"
   ]
  },
  {
   "cell_type": "code",
   "execution_count": 184,
   "id": "b9106661",
   "metadata": {
    "pycharm": {
     "name": "#%%\n"
    }
   },
   "outputs": [],
   "source": [
    "std_resid = arima_residuals / results.conditional_volatility\n",
    "unit_var_resid = arima_residuals / arima_residuals.std()\n"
   ]
  },
  {
   "cell_type": "code",
   "execution_count": 185,
   "id": "3f4ae78b",
   "metadata": {
    "pycharm": {
     "name": "#%%\n"
    }
   },
   "outputs": [
    {
     "data": {
      "image/png": "[encoded data removed]",
      "text/plain": [
       "<Figure size 432x288 with 1 Axes>"
      ]
     },
     "metadata": {
      "needs_background": "light"
     },
     "output_type": "display_data"
    }
   ],
   "source": [
    "plt.xlim(-2, 2)\n",
    "\n",
    "# Plot KDEs for squared_resid, std_resid, and unit_var_resid\n",
    "sns.kdeplot(arima_residuals, shade=True, label='Squared Residual')\n",
    "sns.kdeplot(std_resid, shade=True, label='Standardized Residual')\n",
    "sns.kdeplot(unit_var_resid, shade=True, label='Unit Variance Residual')\n",
    "\n",
    "# Add a legend\n",
    "plt.legend(['Squared Residual', 'Standardized Residual', 'Unit Variance Residual'], loc='best')\n",
    "\n",
    "# Show the plot\n",
    "plt.show()"
   ]
  },
  {
   "cell_type": "code",
   "execution_count": 186,
   "id": "dbd5f7db",
   "metadata": {
    "pycharm": {
     "name": "#%%\n"
    }
   },
   "outputs": [
    {
     "data": {
      "image/png": "[encoded data removed]",
      "text/plain": [
       "<Figure size 432x288 with 1 Axes>"
      ]
     },
     "metadata": {
      "needs_background": "light"
     },
     "output_type": "display_data"
    }
   ],
   "source": [
    "plot_acf(std_resid)\n",
    "plt.title('Standardized residuals')\n",
    "plt.show()"
   ]
  },
  {
   "cell_type": "code",
   "execution_count": 187,
   "id": "9a08e325",
   "metadata": {
    "pycharm": {
     "name": "#%%\n"
    }
   },
   "outputs": [
    {
     "data": {
      "image/png": "[encoded data removed]",
      "text/plain": [
       "<Figure size 432x288 with 1 Axes>"
      ]
     },
     "metadata": {
      "needs_background": "light"
     },
     "output_type": "display_data"
    }
   ],
   "source": [
    "plot_acf(arima_residuals)\n",
    "plt.title('Squared residuals')\n",
    "plt.show()"
   ]
  },
  {
   "cell_type": "code",
   "execution_count": 188,
   "id": "32e6339b",
   "metadata": {
    "pycharm": {
     "name": "#%%\n"
    }
   },
   "outputs": [
    {
     "data": {
      "image/png": "[encoded data removed]",
      "text/plain": [
       "<Figure size 432x288 with 1 Axes>"
      ]
     },
     "metadata": {
      "needs_background": "light"
     },
     "output_type": "display_data"
    }
   ],
   "source": [
    "# Simulate data\n",
    "np.random.seed(0)\n",
    "simulated_data = np.random.randn(250)  # Replace with your own data\n",
    "\n",
    "# Create a DataFrame with a date index\n",
    "date_index = pd.date_range('2018-01-01', periods=250)\n",
    "sim_data = pd.DataFrame({'data': simulated_data}, index=date_index)\n",
    "\n",
    "# Specify the HAR (Heterogeneous Autoregressive) model with Constant volatility\n",
    "am = arch_model(sim_data['data'], mean='HAR', lags=[1, 5, 22], vol='Constant')\n",
    "\n",
    "# Fit the model\n",
    "res = am.fit()\n",
    "\n",
    "# Create a hedgehog plot for the conditional mean\n",
    "fig = res.hedgehog_plot(type='mean')\n",
    "\n",
    "# Show the hedgehog plot\n",
    "plt.show()"
   ]
  },
  {
   "cell_type": "code",
   "execution_count": 189,
   "id": "84caf6dc",
   "metadata": {
    "pycharm": {
     "name": "#%%\n"
    }
   },
   "outputs": [
    {
     "name": "stdout",
     "output_type": "stream",
     "text": [
      "0.0005334518461128549\n"
     ]
    }
   ],
   "source": [
    "mu = df['Log_Return'].mean()\n",
    "print(mu) "
   ]
  },
  {
   "cell_type": "code",
   "execution_count": 190,
   "id": "e08c5c7a-6f32-4f43-900b-9cd263f8047e",
   "metadata": {
    "pycharm": {
     "name": "#%%\n"
    }
   },
   "outputs": [
    {
     "name": "stdout",
     "output_type": "stream",
     "text": [
      "Annual Volatility = 48.69%\n"
     ]
    }
   ],
   "source": [
    "vol = df['Log_Return'].std()*sqrt(252)\n",
    "print ('Annual Volatility =', str(round(vol,4)*100)+'%')"
   ]
  },
  {
   "cell_type": "code",
   "execution_count": 194,
   "id": "946ea265-c319-4848-862c-5d12db70ac16",
   "metadata": {
    "pycharm": {
     "name": "#%%\n"
    }
   },
   "outputs": [],
   "source": [
    "vol = df['Log_Return'].std()*sqrt(252)\n",
    "print ('Annual Volatility =', str(round(vol,4)*100)+'%')\n",
    "# Define Variables\n",
    "S = df['Close'][-1]  # starting stock price (i.e. last available real stock price)\n",
    "T = 252  # Number of trading days\n",
    "mu = 0.0622  # Return\n",
    "vol = 0.3737  # Volatility\n",
    "\n",
    "# Generate daily returns\n",
    "daily_returns = np.random.normal((1+mu)**(1/T), vol/sqrt(T), T)\n",
    "\n",
    "# Simulate price\n",
    "price_list = [S]\n",
    "for x in daily_returns:\n",
    "    price_list.append(price_list[-1] * (1 + x))\n",
    "#Generate Plots — price series and histogram of daily returns\n",
    "plt.plot(price_list)\n",
    "plt.show()\n",
    "plt.hist(daily_returns-1, 100) \n",
    "plt.show()"
   ]
  },
  {
   "cell_type": "code",
   "execution_count": 196,
   "id": "4cad35f0",
   "metadata": {
    "pycharm": {
     "name": "#%%\n"
    }
   },
   "outputs": [
    {
     "data": {
      "image/png": "[encoded data removed]",
      "text/plain": [
       "<Figure size 432x288 with 1 Axes>"
      ]
     },
     "metadata": {
      "needs_background": "light"
     },
     "output_type": "display_data"
    },
    {
     "data": {
      "image/png": "[encoded data removed]",
      "text/plain": [
       "<Figure size 432x288 with 1 Axes>"
      ]
     },
     "metadata": {
      "needs_background": "light"
     },
     "output_type": "display_data"
    }
   ],
   "source": []
  },
  {
   "cell_type": "code",
   "execution_count": 197,
   "id": "382242a7",
   "metadata": {
    "pycharm": {
     "name": "#%%\n"
    }
   },
   "outputs": [
    {
     "name": "stdout",
     "output_type": "stream",
     "text": [
      "Annual Volatility = 593.2304%\n"
     ]
    },
    {
     "data": {
      "image/png": "[encoded data removed]",
      "text/plain": [
       "<Figure size 720x360 with 1 Axes>"
      ]
     },
     "metadata": {
      "needs_background": "light"
     },
     "output_type": "display_data"
    },
    {
     "data": {
      "image/png": "[encoded data removed]",
      "text/plain": [
       "<Figure size 720x360 with 1 Axes>"
      ]
     },
     "metadata": {
      "needs_background": "light"
     },
     "output_type": "display_data"
    }
   ],
   "source": [
    "\n",
    "# Define Variables\n",
    "S = df['Close'].iloc[-1]  # Starting stock price (use .iloc to get the last available price)\n",
    "T = 252  # Number of trading days\n",
    "mu = 0.0622  # Return\n",
    "vol = 0.3737  # Volatility\n",
    "\n",
    "# Calculate annualized volatility\n",
    "annual_volatility = vol * np.sqrt(252)\n",
    "print('Annual Volatility =', f'{annual_volatility:.4%}')\n",
    "\n",
    "# Generate daily returns using a random normal distribution\n",
    "daily_returns = np.random.normal((1 + mu) ** (1 / T), vol / np.sqrt(T), T)\n",
    "\n",
    "# Initialize a list to store the price series\n",
    "price_list = [S]\n",
    "\n",
    "# Generate the price series based on daily returns\n",
    "for daily_return in daily_returns:\n",
    "    price_list.append(price_list[-1] * (1 + daily_return))\n",
    "\n",
    "# Generate Plots - Price Series\n",
    "plt.figure(figsize=(10, 5))\n",
    "plt.plot(price_list)\n",
    "plt.xlabel('Trading Days')\n",
    "plt.ylabel('Price')\n",
    "plt.title('Random Price Series')\n",
    "plt.show()\n",
    "\n",
    "# Generate Plots - Histogram of Daily Returns\n",
    "plt.figure(figsize=(10, 5))\n",
    "plt.hist(daily_returns - 1, bins=100, color='blue', alpha=0.7)\n",
    "plt.xlabel('Daily Returns')\n",
    "plt.ylabel('Frequency')\n",
    "plt.title('Histogram of Daily Returns')\n",
    "plt.show()"
   ]
  },
  {
   "cell_type": "code",
   "execution_count": 198,
   "id": "64d058a7",
   "metadata": {
    "pycharm": {
     "name": "#%%\n"
    }
   },
   "outputs": [
    {
     "data": {
      "image/png": "[encoded data removed]",
      "text/plain": [
       "<Figure size 720x432 with 1 Axes>"
      ]
     },
     "metadata": {
      "needs_background": "light"
     },
     "output_type": "display_data"
    }
   ],
   "source": [
    "# Set up an empty list to hold ending values for each simulated price series\n",
    "results = []\n",
    "\n",
    "# Define parameters\n",
    "S = df['Close'].iloc[-1]  # Starting stock price (use .iloc to get the last available price)\n",
    "T = 252  # Number of trading days\n",
    "mu = 0.0622  # Expected return\n",
    "vol = 0.3737  # Volatility\n",
    "\n",
    "# Choose the number of runs to simulate (e.g., 10,000)\n",
    "num_simulations = 10000\n",
    "\n",
    "for i in range(num_simulations):\n",
    "    # Create a list of daily returns using a random normal distribution\n",
    "    daily_returns = np.random.normal((1 + mu) ** (1 / T), vol / np.sqrt(T), T)\n",
    "    \n",
    "    # Set the starting price and create a price series generated by the above daily returns\n",
    "    price_list = [S]\n",
    "\n",
    "    for daily_return in daily_returns:\n",
    "        price_list.append(price_list[-1] * daily_return)\n",
    "    \n",
    "    # Append the ending value of each simulated run to the results list\n",
    "    results.append(price_list[-1])\n",
    "\n",
    "# Create a histogram of the simulated results\n",
    "plt.figure(figsize=(10, 6))\n",
    "plt.hist(results, bins=100, color='blue', alpha=0.7)\n",
    "\n",
    "# Add vertical lines at the 5th and 95th percentiles\n",
    "plt.axvline(np.percentile(results, 5), color='r', linestyle='dashed', linewidth=2)\n",
    "plt.axvline(np.percentile(results, 95), color='r', linestyle='dashed', linewidth=2)\n",
    "\n",
    "# Add statistics text to the plot\n",
    "plt.figtext(0.6, 0.8, f\"Start price: ${S:.2f}\")\n",
    "plt.figtext(0.6, 0.7, f\"Mean final price: ${np.mean(results):.2f}\")\n",
    "plt.figtext(0.6, 0.6, f\"5% quantile: ${np.percentile(results, 5):.2f}\")\n",
    "plt.figtext(0.15, 0.6, f\"95% quantile: ${np.percentile(results, 95):.2f}\")\n",
    "\n",
    "# Set plot title and labels\n",
    "plt.title(\"Final Price Distribution for Crude Stock\", weight='bold', fontsize=12)\n",
    "plt.xlabel(\"Final Price\")\n",
    "plt.ylabel(\"Frequency\")\n",
    "\n",
    "# Show the plot\n",
    "plt.show()"
   ]
  },
  {
   "cell_type": "code",
   "execution_count": 199,
   "id": "10799f14",
   "metadata": {
    "pycharm": {
     "name": "#%%\n"
    }
   },
   "outputs": [
    {
     "name": "stdout",
     "output_type": "stream",
     "text": [
      "15-day VaR at 5.0% confidence level: $36.99\n"
     ]
    },
    {
     "data": {
      "image/png": "[encoded data removed]",
      "text/plain": [
       "<Figure size 720x432 with 1 Axes>"
      ]
     },
     "metadata": {
      "needs_background": "light"
     },
     "output_type": "display_data"
    }
   ],
   "source": [
    "# Set up an empty list to hold ending values for each simulated price series\n",
    "results = []\n",
    "\n",
    "# Define parameters\n",
    "S = df['Close'].iloc[-1]  # Starting stock price (use .iloc to get the last available price)\n",
    "T = 15  # Number of trading days for the desired horizon\n",
    "mu = 0.0622  # Expected return\n",
    "vol = 0.3737  # Volatility\n",
    "\n",
    "# Choose the number of runs to simulate (e.g., 10,000)\n",
    "num_simulations = 10000\n",
    "\n",
    "for i in range(num_simulations):\n",
    "    # Create a list of daily returns for the desired horizon\n",
    "    daily_returns = np.random.normal((1 + mu) ** (1 / T), vol / np.sqrt(T), T)\n",
    "    \n",
    "    # Set the starting price and create a price series generated by the daily returns\n",
    "    price_list = [S]\n",
    "\n",
    "    for daily_return in daily_returns:\n",
    "        price_list.append(price_list[-1] * daily_return)\n",
    "    \n",
    "    # Append the ending value of each simulated run to the results list\n",
    "    results.append(price_list[-1])\n",
    "\n",
    "# Create a histogram of the simulated results\n",
    "plt.figure(figsize=(10, 6))\n",
    "plt.hist(results, bins=100, color='blue', alpha=0.7)\n",
    "\n",
    "# Calculate and display VaR at the desired confidence level\n",
    "confidence_level = 0.05  # 5% confidence level (adjust as needed)\n",
    "var_horizon = np.percentile(results, confidence_level * 100)\n",
    "print(f\"{int(T)}-day VaR at {confidence_level * 100}% confidence level: ${var_horizon:.2f}\")\n",
    "\n",
    "# Add a vertical line at the VaR level\n",
    "plt.axvline(var_horizon, color='r', linestyle='dashed', linewidth=2)\n",
    "\n",
    "# Set plot title and labels\n",
    "plt.title(f\"{int(T)}-day VaR Distribution for Crude Stock\", weight='bold', fontsize=12)\n",
    "plt.xlabel(\"Final Price\")\n",
    "plt.ylabel(\"Frequency\")\n",
    "\n",
    "# Show the plot\n",
    "plt.show()"
   ]
  },
  {
   "cell_type": "code",
   "execution_count": null,
   "id": "2975f612",
   "metadata": {
    "pycharm": {
     "name": "#%%\n"
    }
   },
   "outputs": [],
   "source": []
  },
  {
   "cell_type": "code",
   "execution_count": 200,
   "id": "25aa29e0",
   "metadata": {
    "pycharm": {
     "name": "#%%\n"
    }
   },
   "outputs": [
    {
     "data": {
      "text/plain": [
       "DatetimeIndex(['2016-06-24', '2016-06-27', '2016-06-28', '2016-06-29',\n",
       "               '2016-06-30', '2016-07-01', '2016-07-05', '2016-07-06',\n",
       "               '2016-07-07', '2016-07-08',\n",
       "               ...\n",
       "               '2023-05-16', '2023-05-17', '2023-05-18', '2023-05-19',\n",
       "               '2023-05-22', '2023-05-23', '2023-05-24', '2023-05-25',\n",
       "               '2023-05-26', '2023-05-30'],\n",
       "              dtype='datetime64[ns]', name='Date', length=1740, freq=None)"
      ]
     },
     "execution_count": 200,
     "metadata": {},
     "output_type": "execute_result"
    }
   ],
   "source": [
    "df.index"
   ]
  },
  {
   "cell_type": "code",
   "execution_count": 208,
   "id": "89708666",
   "metadata": {
    "pycharm": {
     "name": "#%%\n"
    }
   },
   "outputs": [
    {
     "data": {
      "text/plain": [
       "Index(['Open', 'High', 'Low', 'Close', 'Adj Close', 'Volume', 'Log_Return',\n",
       "       'Forcast_log', 'Forcast_Price', 'Short_MA', 'Long_MA', 'Position',\n",
       "       'Capital', 'Returns'],\n",
       "      dtype='object')"
      ]
     },
     "execution_count": 208,
     "metadata": {},
     "output_type": "execute_result"
    }
   ],
   "source": [
    "df.columns"
   ]
  },
  {
   "cell_type": "code",
   "execution_count": 209,
   "id": "4cabf492",
   "metadata": {
    "pycharm": {
     "name": "#%%\n"
    }
   },
   "outputs": [],
   "source": [
    "import pandas as pd\n",
    "import numpy as np\n",
    "import matplotlib.pyplot as plt\n"
   ]
  },
  {
   "cell_type": "code",
   "execution_count": 212,
   "id": "9e61f3a3-577b-484b-9ca2-ae4627a201ad",
   "metadata": {
    "pycharm": {
     "name": "#%%\n"
    }
   },
   "outputs": [],
   "source": [
    "def backtest_strategy(df, short_window, long_window):\n",
    "    # 计算短期均线和长期均线\n",
    "    df['Short_MA'] = df['Close'].rolling(window=short_window).mean()\n",
    "    df['Long_MA'] = df['Close'].rolling(window=long_window).mean()\n",
    "\n",
    "    # 初始化持仓和资本\n",
    "    df['Position'] = 0\n",
    "    df['Capital'] = 100000  # 假设初始资本为100,000美元\n",
    "    initial_capital = df['Capital'][0]  # 定义初始资本\n",
    "\n",
    "    # 实施交易策略\n",
    "    for i in range(long_window, len(df)):\n",
    "        if df['Short_MA'][i] > df['Long_MA'][i] and df['Short_MA'][i - 1] <= df['Long_MA'][i - 1]:\n",
    "            # 买入信号\n",
    "            df.at[df.index[i], 'Position'] = df['Capital'][i - 1] // df['Close'][i]\n",
    "        elif df['Short_MA'][i] < df['Long_MA'][i] and df['Short_MA'][i - 1] >= df['Long_MA'][i - 1]:\n",
    "            # 卖出信号\n",
    "            df.at[df.index[i], 'Position'] = 0\n",
    "\n",
    "    # 计算每日资本\n",
    "    for i in range(long_window, len(df)):\n",
    "        df.at[df.index[i], 'Capital'] = df['Capital'][i - 1] + df['Position'][i] * (df['Close'][i] - df['Close'][i - 1])\n",
    "\n",
    "    # 计算策略的回报\n",
    "    df['Returns'] = df['Capital'] - initial_capital\n",
    "\n",
    "    return df"
   ]
  },
  {
   "cell_type": "code",
   "execution_count": 213,
   "id": "ebdfc81e-ab87-40b1-924a-333a459194ec",
   "metadata": {
    "pycharm": {
     "name": "#%%\n"
    }
   },
   "outputs": [
    {
     "name": "stdout",
     "output_type": "stream",
     "text": [
      "Total Returns: 19.92%\n",
      "Annualized Returns: 2.89%\n"
     ]
    },
    {
     "data": {
      "image/png": "[encoded data removed]",
      "text/plain": [
       "<Figure size 864x432 with 1 Axes>"
      ]
     },
     "metadata": {
      "needs_background": "light"
     },
     "output_type": "display_data"
    }
   ],
   "source": [
    "short_window = 10  # 短期均线窗口\n",
    "long_window = 50   # 长期均线窗口\n",
    "\n",
    "df_backtest = backtest_strategy(df, short_window, long_window)\n",
    "\n",
    "# 打印回报统计信息\n",
    "initial_capital = df_backtest['Capital'][0]  # 定义初始资本\n",
    "print(\"Total Returns: {:.2f}%\".format(df_backtest['Returns'][-1] / initial_capital * 100))\n",
    "print(\"Annualized Returns: {:.2f}%\".format((df_backtest['Returns'][-1] / initial_capital) / (len(df_backtest) / 252) * 100))\n",
    "\n",
    "# 绘制资本曲线\n",
    "df_backtest[['Capital']].plot(figsize=(12, 6))\n",
    "plt.title(\"Capital Curve\")\n",
    "plt.show()"
   ]
  },
  {
   "cell_type": "code",
   "execution_count": null,
   "id": "4abbc912-174f-4246-ba6a-10ee96c1692f",
   "metadata": {
    "pycharm": {
     "name": "#%%\n"
    }
   },
   "outputs": [],
   "source": []
  },
  {
   "cell_type": "code",
   "execution_count": null,
   "id": "56962d6f-9ddb-465f-9d0c-8d3370cbd813",
   "metadata": {
    "pycharm": {
     "name": "#%%\n"
    }
   },
   "outputs": [],
   "source": []
  }
 ],
 "metadata": {
  "kernelspec": {
   "display_name": "Python 3 (ipykernel)",
   "language": "python",
   "name": "python3"
  },
  "language_info": {
   "codemirror_mode": {
    "name": "ipython",
    "version": 3
   },
   "file_extension": ".py",
   "mimetype": "text/x-python",
   "name": "python",
   "nbconvert_exporter": "python",
   "pygments_lexer": "ipython3",
   "version": "3.10.9"
  }
 },
 "nbformat": 4,
 "nbformat_minor": 5
}
